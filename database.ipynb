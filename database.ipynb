{
 "cells": [
  {
   "attachments": {},
   "cell_type": "markdown",
   "metadata": {},
   "source": [
    "%pip install pyodbc  \n",
    "%pip install python-dotenv "
   ]
  },
  {
   "attachments": {},
   "cell_type": "markdown",
   "metadata": {},
   "source": [
    "Hypothesis\n",
    "\n",
    "QUESTIONS\n",
    "1. Which companies received the highest amount of funding? \n",
    "2. At what funding stage did investors fund the highest?\n",
    "3. Which sectors/industry's received the highest amount of funding? \n",
    "4. Which sectors/industry's received the least amount of funding? \n",
    "5. Which cities received the highest amount of funding ?\n",
    "6. Which companies received the least amount of funding?\n",
    "\n",
    "\n",
    "\n",
    " "
   ]
  },
  {
   "cell_type": "code",
   "execution_count": 41,
   "metadata": {},
   "outputs": [
    {
     "name": "stdout",
     "output_type": "stream",
     "text": [
      "Collecting scikit-learnNote: you may need to restart the kernel to use updated packages.\n",
      "\n",
      "  Downloading scikit_learn-1.3.0-cp311-cp311-win_amd64.whl (9.2 MB)\n",
      "     ---------------------------------------- 9.2/9.2 MB 310.8 kB/s eta 0:00:00\n",
      "Requirement already satisfied: numpy>=1.17.3 in c:\\users\\hp\\appdata\\local\\programs\\python\\python311\\lib\\site-packages (from scikit-learn) (1.24.3)\n",
      "Collecting scipy>=1.5.0\n",
      "  Downloading scipy-1.11.1-cp311-cp311-win_amd64.whl (44.0 MB)\n",
      "     -------------------------------------- 44.0/44.0 MB 790.9 kB/s eta 0:00:00\n",
      "Collecting joblib>=1.1.1\n",
      "  Downloading joblib-1.3.1-py3-none-any.whl (301 kB)\n",
      "     ------------------------------------ 302.0/302.0 kB 444.7 kB/s eta 0:00:00\n",
      "Collecting threadpoolctl>=2.0.0\n",
      "  Downloading threadpoolctl-3.1.0-py3-none-any.whl (14 kB)\n",
      "Installing collected packages: threadpoolctl, scipy, joblib, scikit-learn\n",
      "Successfully installed joblib-1.3.1 scikit-learn-1.3.0 scipy-1.11.1 threadpoolctl-3.1.0\n"
     ]
    },
    {
     "name": "stderr",
     "output_type": "stream",
     "text": [
      "\n",
      "[notice] A new release of pip available: 22.3.1 -> 23.1.2\n",
      "[notice] To update, run: python.exe -m pip install --upgrade pip\n"
     ]
    }
   ],
   "source": [
    "pip install scikit-learn"
   ]
  },
  {
   "cell_type": "code",
   "execution_count": 42,
   "metadata": {},
   "outputs": [],
   "source": [
    "from sklearn.impute import SimpleImputer\n",
    "import numpy as np"
   ]
  },
  {
   "cell_type": "code",
   "execution_count": 2,
   "metadata": {},
   "outputs": [
    {
     "name": "stdout",
     "output_type": "stream",
     "text": [
      "Requirement already satisfied: pyodbc in c:\\users\\hp\\appdata\\local\\programs\\python\\python311\\lib\\site-packages (4.0.39)\n",
      "Note: you may need to restart the kernel to use updated packages.\n"
     ]
    },
    {
     "name": "stderr",
     "output_type": "stream",
     "text": [
      "\n",
      "[notice] A new release of pip available: 22.3.1 -> 23.1.2\n",
      "[notice] To update, run: python.exe -m pip install --upgrade pip\n"
     ]
    }
   ],
   "source": [
    "#  a package for creating connection strings to your remote database\n",
    "%pip install pyodbc"
   ]
  },
  {
   "cell_type": "code",
   "execution_count": 3,
   "metadata": {},
   "outputs": [
    {
     "name": "stdout",
     "output_type": "stream",
     "text": [
      "Requirement already satisfied: python-dotenv in c:\\users\\hp\\appdata\\local\\programs\\python\\python311\\lib\\site-packages (1.0.0)\n",
      "Note: you may need to restart the kernel to use updated packages.\n"
     ]
    },
    {
     "name": "stderr",
     "output_type": "stream",
     "text": [
      "\n",
      "[notice] A new release of pip available: 22.3.1 -> 23.1.2\n",
      "[notice] To update, run: python.exe -m pip install --upgrade pip\n"
     ]
    }
   ],
   "source": [
    "# a package for creating environment variables that will help you hide sensitve configuration information such as database credentials and API keys\n",
    "%pip install python-dotenv\n"
   ]
  },
  {
   "attachments": {},
   "cell_type": "markdown",
   "metadata": {},
   "source": [
    "import pyodbc #just installed with pip\n",
    "from dotenv import dotenv_values #import the dotenv_values function from the dotenv package\n",
    "import pandas as pd\n",
    "import warnings \n",
    "\n",
    "warnings.filterwarnings('ignore')"
   ]
  },
  {
   "cell_type": "code",
   "execution_count": 4,
   "metadata": {},
   "outputs": [],
   "source": [
    "import pyodbc\n",
    "from dotenv import dotenv_values\n",
    "import pandas as pd\n",
    "import warnings\n",
    "warnings.filterwarnings('ignore')"
   ]
  },
  {
   "cell_type": "code",
   "execution_count": 53,
   "metadata": {},
   "outputs": [],
   "source": [
    "# Load environment variables from .env file into a dictionary\n",
    "environment_variables = dotenv_values('.env')\n",
    "\n",
    "\n",
    "# Get the values for the credentials you set in the '.env' file\n",
    "database = environment_variables.get(\"DATABASE\")\n",
    "server = environment_variables.get(\"SERVER\")\n",
    "username = environment_variables.get(\"USERNAME\")\n",
    "password = environment_variables.get(\"PASSWORD\")\n",
    "\n",
    "connection_string = f\"DRIVER={{SQL Server}};SERVER={server};DATABASE={database};UID={username};PWD={password}\""
   ]
  },
  {
   "cell_type": "code",
   "execution_count": 54,
   "metadata": {},
   "outputs": [],
   "source": [
    "# Use the connect method of the pyodbc library and pass in the connection string.\n",
    "# This will connect to the server and might take a few seconds to be complete. \n",
    "# Check your internet connection if it takes more time than necessary\n",
    "\n",
    "connection = pyodbc.connect(connection_string)"
   ]
  },
  {
   "cell_type": "code",
   "execution_count": 7,
   "metadata": {},
   "outputs": [
    {
     "data": {
      "text/html": [
       "<div>\n",
       "<style scoped>\n",
       "    .dataframe tbody tr th:only-of-type {\n",
       "        vertical-align: middle;\n",
       "    }\n",
       "\n",
       "    .dataframe tbody tr th {\n",
       "        vertical-align: top;\n",
       "    }\n",
       "\n",
       "    .dataframe thead th {\n",
       "        text-align: right;\n",
       "    }\n",
       "</style>\n",
       "<table border=\"1\" class=\"dataframe\">\n",
       "  <thead>\n",
       "    <tr style=\"text-align: right;\">\n",
       "      <th></th>\n",
       "      <th>Company Name</th>\n",
       "      <th>Industry</th>\n",
       "      <th>Round/Series</th>\n",
       "      <th>Amount</th>\n",
       "      <th>Location</th>\n",
       "      <th>About Company</th>\n",
       "    </tr>\n",
       "  </thead>\n",
       "  <tbody>\n",
       "    <tr>\n",
       "      <th>0</th>\n",
       "      <td>TheCollegeFever</td>\n",
       "      <td>Brand Marketing, Event Promotion, Marketing, S...</td>\n",
       "      <td>Seed</td>\n",
       "      <td>250000</td>\n",
       "      <td>Bangalore, Karnataka, India</td>\n",
       "      <td>TheCollegeFever is a hub for fun, fiesta and f...</td>\n",
       "    </tr>\n",
       "    <tr>\n",
       "      <th>1</th>\n",
       "      <td>Happy Cow Dairy</td>\n",
       "      <td>Agriculture, Farming</td>\n",
       "      <td>Seed</td>\n",
       "      <td>₹40,000,000</td>\n",
       "      <td>Mumbai, Maharashtra, India</td>\n",
       "      <td>A startup which aggregates milk from dairy far...</td>\n",
       "    </tr>\n",
       "    <tr>\n",
       "      <th>2</th>\n",
       "      <td>MyLoanCare</td>\n",
       "      <td>Credit, Financial Services, Lending, Marketplace</td>\n",
       "      <td>Series A</td>\n",
       "      <td>₹65,000,000</td>\n",
       "      <td>Gurgaon, Haryana, India</td>\n",
       "      <td>Leading Online Loans Marketplace in India</td>\n",
       "    </tr>\n",
       "    <tr>\n",
       "      <th>3</th>\n",
       "      <td>PayMe India</td>\n",
       "      <td>Financial Services, FinTech</td>\n",
       "      <td>Angel</td>\n",
       "      <td>2000000</td>\n",
       "      <td>Noida, Uttar Pradesh, India</td>\n",
       "      <td>PayMe India is an innovative FinTech organizat...</td>\n",
       "    </tr>\n",
       "    <tr>\n",
       "      <th>4</th>\n",
       "      <td>Eunimart</td>\n",
       "      <td>E-Commerce Platforms, Retail, SaaS</td>\n",
       "      <td>Seed</td>\n",
       "      <td>—</td>\n",
       "      <td>Hyderabad, Andhra Pradesh, India</td>\n",
       "      <td>Eunimart is a one stop solution for merchants ...</td>\n",
       "    </tr>\n",
       "  </tbody>\n",
       "</table>\n",
       "</div>"
      ],
      "text/plain": [
       "      Company Name                                           Industry   \n",
       "0  TheCollegeFever  Brand Marketing, Event Promotion, Marketing, S...  \\\n",
       "1  Happy Cow Dairy                               Agriculture, Farming   \n",
       "2       MyLoanCare   Credit, Financial Services, Lending, Marketplace   \n",
       "3      PayMe India                        Financial Services, FinTech   \n",
       "4         Eunimart                 E-Commerce Platforms, Retail, SaaS   \n",
       "\n",
       "  Round/Series       Amount                          Location   \n",
       "0         Seed       250000       Bangalore, Karnataka, India  \\\n",
       "1         Seed  ₹40,000,000        Mumbai, Maharashtra, India   \n",
       "2     Series A  ₹65,000,000           Gurgaon, Haryana, India   \n",
       "3        Angel      2000000       Noida, Uttar Pradesh, India   \n",
       "4         Seed            —  Hyderabad, Andhra Pradesh, India   \n",
       "\n",
       "                                       About Company  \n",
       "0  TheCollegeFever is a hub for fun, fiesta and f...  \n",
       "1  A startup which aggregates milk from dairy far...  \n",
       "2          Leading Online Loans Marketplace in India  \n",
       "3  PayMe India is an innovative FinTech organizat...  \n",
       "4  Eunimart is a one stop solution for merchants ...  "
      ]
     },
     "execution_count": 7,
     "metadata": {},
     "output_type": "execute_result"
    }
   ],
   "source": [
    "#2018 DATASET\n",
    "data_2018 = pd.read_csv(\"startup_funding2018.csv\")\n",
    "data_2018.head()"
   ]
  },
  {
   "cell_type": "code",
   "execution_count": 8,
   "metadata": {},
   "outputs": [
    {
     "data": {
      "text/plain": [
       "(526, 6)"
      ]
     },
     "execution_count": 8,
     "metadata": {},
     "output_type": "execute_result"
    }
   ],
   "source": [
    "data_2018.shape"
   ]
  },
  {
   "cell_type": "code",
   "execution_count": 9,
   "metadata": {},
   "outputs": [
    {
     "data": {
      "text/plain": [
       "Index(['Company Name', 'Industry', 'Round/Series', 'Amount', 'Location',\n",
       "       'About Company'],\n",
       "      dtype='object')"
      ]
     },
     "execution_count": 9,
     "metadata": {},
     "output_type": "execute_result"
    }
   ],
   "source": [
    "data_2018.columns"
   ]
  },
  {
   "cell_type": "code",
   "execution_count": 10,
   "metadata": {},
   "outputs": [
    {
     "name": "stdout",
     "output_type": "stream",
     "text": [
      "<class 'pandas.core.frame.DataFrame'>\n",
      "RangeIndex: 526 entries, 0 to 525\n",
      "Data columns (total 6 columns):\n",
      " #   Column         Non-Null Count  Dtype \n",
      "---  ------         --------------  ----- \n",
      " 0   Company Name   526 non-null    object\n",
      " 1   Industry       526 non-null    object\n",
      " 2   Round/Series   526 non-null    object\n",
      " 3   Amount         526 non-null    object\n",
      " 4   Location       526 non-null    object\n",
      " 5   About Company  526 non-null    object\n",
      "dtypes: object(6)\n",
      "memory usage: 24.8+ KB\n"
     ]
    }
   ],
   "source": [
    "data_2018.info()"
   ]
  },
  {
   "cell_type": "code",
   "execution_count": 11,
   "metadata": {},
   "outputs": [
    {
     "data": {
      "text/html": [
       "<div>\n",
       "<style scoped>\n",
       "    .dataframe tbody tr th:only-of-type {\n",
       "        vertical-align: middle;\n",
       "    }\n",
       "\n",
       "    .dataframe tbody tr th {\n",
       "        vertical-align: top;\n",
       "    }\n",
       "\n",
       "    .dataframe thead th {\n",
       "        text-align: right;\n",
       "    }\n",
       "</style>\n",
       "<table border=\"1\" class=\"dataframe\">\n",
       "  <thead>\n",
       "    <tr style=\"text-align: right;\">\n",
       "      <th></th>\n",
       "      <th>Company_Brand</th>\n",
       "      <th>Sector</th>\n",
       "      <th>Stage</th>\n",
       "      <th>Amount($)</th>\n",
       "      <th>HeadQuarter</th>\n",
       "      <th>What_it_does</th>\n",
       "    </tr>\n",
       "  </thead>\n",
       "  <tbody>\n",
       "    <tr>\n",
       "      <th>0</th>\n",
       "      <td>TheCollegeFever</td>\n",
       "      <td>Brand Marketing, Event Promotion, Marketing, S...</td>\n",
       "      <td>Seed</td>\n",
       "      <td>250000</td>\n",
       "      <td>Bangalore, Karnataka, India</td>\n",
       "      <td>TheCollegeFever is a hub for fun, fiesta and f...</td>\n",
       "    </tr>\n",
       "    <tr>\n",
       "      <th>1</th>\n",
       "      <td>Happy Cow Dairy</td>\n",
       "      <td>Agriculture, Farming</td>\n",
       "      <td>Seed</td>\n",
       "      <td>₹40,000,000</td>\n",
       "      <td>Mumbai, Maharashtra, India</td>\n",
       "      <td>A startup which aggregates milk from dairy far...</td>\n",
       "    </tr>\n",
       "    <tr>\n",
       "      <th>2</th>\n",
       "      <td>MyLoanCare</td>\n",
       "      <td>Credit, Financial Services, Lending, Marketplace</td>\n",
       "      <td>Series A</td>\n",
       "      <td>₹65,000,000</td>\n",
       "      <td>Gurgaon, Haryana, India</td>\n",
       "      <td>Leading Online Loans Marketplace in India</td>\n",
       "    </tr>\n",
       "    <tr>\n",
       "      <th>3</th>\n",
       "      <td>PayMe India</td>\n",
       "      <td>Financial Services, FinTech</td>\n",
       "      <td>Angel</td>\n",
       "      <td>2000000</td>\n",
       "      <td>Noida, Uttar Pradesh, India</td>\n",
       "      <td>PayMe India is an innovative FinTech organizat...</td>\n",
       "    </tr>\n",
       "    <tr>\n",
       "      <th>4</th>\n",
       "      <td>Eunimart</td>\n",
       "      <td>E-Commerce Platforms, Retail, SaaS</td>\n",
       "      <td>Seed</td>\n",
       "      <td>—</td>\n",
       "      <td>Hyderabad, Andhra Pradesh, India</td>\n",
       "      <td>Eunimart is a one stop solution for merchants ...</td>\n",
       "    </tr>\n",
       "  </tbody>\n",
       "</table>\n",
       "</div>"
      ],
      "text/plain": [
       "     Company_Brand                                             Sector   \n",
       "0  TheCollegeFever  Brand Marketing, Event Promotion, Marketing, S...  \\\n",
       "1  Happy Cow Dairy                               Agriculture, Farming   \n",
       "2       MyLoanCare   Credit, Financial Services, Lending, Marketplace   \n",
       "3      PayMe India                        Financial Services, FinTech   \n",
       "4         Eunimart                 E-Commerce Platforms, Retail, SaaS   \n",
       "\n",
       "      Stage    Amount($)                       HeadQuarter   \n",
       "0      Seed       250000       Bangalore, Karnataka, India  \\\n",
       "1      Seed  ₹40,000,000        Mumbai, Maharashtra, India   \n",
       "2  Series A  ₹65,000,000           Gurgaon, Haryana, India   \n",
       "3     Angel      2000000       Noida, Uttar Pradesh, India   \n",
       "4      Seed            —  Hyderabad, Andhra Pradesh, India   \n",
       "\n",
       "                                        What_it_does  \n",
       "0  TheCollegeFever is a hub for fun, fiesta and f...  \n",
       "1  A startup which aggregates milk from dairy far...  \n",
       "2          Leading Online Loans Marketplace in India  \n",
       "3  PayMe India is an innovative FinTech organizat...  \n",
       "4  Eunimart is a one stop solution for merchants ...  "
      ]
     },
     "execution_count": 11,
     "metadata": {},
     "output_type": "execute_result"
    }
   ],
   "source": [
    "data_2018.rename(columns={\n",
    "    'Company Name':'Company_Brand',\n",
    "    'Industry':'Sector',\n",
    "    'About Company':'What_it_does',\n",
    "    'Amount':'Amount($)',\n",
    "    'Location':'HeadQuarter',\n",
    "    'Round/Series':'Stage',\n",
    "}, inplace=True)\n",
    "\n",
    "data_2018.head()\n"
   ]
  },
  {
   "cell_type": "code",
   "execution_count": 12,
   "metadata": {},
   "outputs": [],
   "source": [
    "# data_2018['Amount'].unique"
   ]
  },
  {
   "cell_type": "code",
   "execution_count": 52,
   "metadata": {},
   "outputs": [],
   "source": [
    "#change the amount datatype\n",
    "# data_2018['Amount($)'] = data_2018['Amount($)'].astype(int)"
   ]
  },
  {
   "cell_type": "code",
   "execution_count": 18,
   "metadata": {},
   "outputs": [
    {
     "data": {
      "text/plain": [
       "1"
      ]
     },
     "execution_count": 18,
     "metadata": {},
     "output_type": "execute_result"
    }
   ],
   "source": [
    "data_2018.duplicated().sum()"
   ]
  },
  {
   "cell_type": "code",
   "execution_count": 19,
   "metadata": {},
   "outputs": [
    {
     "data": {
      "text/html": [
       "<div>\n",
       "<style scoped>\n",
       "    .dataframe tbody tr th:only-of-type {\n",
       "        vertical-align: middle;\n",
       "    }\n",
       "\n",
       "    .dataframe tbody tr th {\n",
       "        vertical-align: top;\n",
       "    }\n",
       "\n",
       "    .dataframe thead th {\n",
       "        text-align: right;\n",
       "    }\n",
       "</style>\n",
       "<table border=\"1\" class=\"dataframe\">\n",
       "  <thead>\n",
       "    <tr style=\"text-align: right;\">\n",
       "      <th></th>\n",
       "      <th>Company_Brand</th>\n",
       "      <th>Sector</th>\n",
       "      <th>Stage</th>\n",
       "      <th>Amount($)</th>\n",
       "      <th>HeadQuarter</th>\n",
       "      <th>What_it_does</th>\n",
       "    </tr>\n",
       "  </thead>\n",
       "  <tbody>\n",
       "    <tr>\n",
       "      <th>0</th>\n",
       "      <td>TheCollegeFever</td>\n",
       "      <td>Brand Marketing, Event Promotion, Marketing, S...</td>\n",
       "      <td>Seed</td>\n",
       "      <td>250000</td>\n",
       "      <td>Bangalore, Karnataka, India</td>\n",
       "      <td>TheCollegeFever is a hub for fun, fiesta and f...</td>\n",
       "    </tr>\n",
       "    <tr>\n",
       "      <th>1</th>\n",
       "      <td>Happy Cow Dairy</td>\n",
       "      <td>Agriculture, Farming</td>\n",
       "      <td>Seed</td>\n",
       "      <td>₹40,000,000</td>\n",
       "      <td>Mumbai, Maharashtra, India</td>\n",
       "      <td>A startup which aggregates milk from dairy far...</td>\n",
       "    </tr>\n",
       "    <tr>\n",
       "      <th>2</th>\n",
       "      <td>MyLoanCare</td>\n",
       "      <td>Credit, Financial Services, Lending, Marketplace</td>\n",
       "      <td>Series A</td>\n",
       "      <td>₹65,000,000</td>\n",
       "      <td>Gurgaon, Haryana, India</td>\n",
       "      <td>Leading Online Loans Marketplace in India</td>\n",
       "    </tr>\n",
       "    <tr>\n",
       "      <th>3</th>\n",
       "      <td>PayMe India</td>\n",
       "      <td>Financial Services, FinTech</td>\n",
       "      <td>Angel</td>\n",
       "      <td>2000000</td>\n",
       "      <td>Noida, Uttar Pradesh, India</td>\n",
       "      <td>PayMe India is an innovative FinTech organizat...</td>\n",
       "    </tr>\n",
       "    <tr>\n",
       "      <th>4</th>\n",
       "      <td>Eunimart</td>\n",
       "      <td>E-Commerce Platforms, Retail, SaaS</td>\n",
       "      <td>Seed</td>\n",
       "      <td>—</td>\n",
       "      <td>Hyderabad, Andhra Pradesh, India</td>\n",
       "      <td>Eunimart is a one stop solution for merchants ...</td>\n",
       "    </tr>\n",
       "    <tr>\n",
       "      <th>...</th>\n",
       "      <td>...</td>\n",
       "      <td>...</td>\n",
       "      <td>...</td>\n",
       "      <td>...</td>\n",
       "      <td>...</td>\n",
       "      <td>...</td>\n",
       "    </tr>\n",
       "    <tr>\n",
       "      <th>521</th>\n",
       "      <td>Udaan</td>\n",
       "      <td>B2B, Business Development, Internet, Marketplace</td>\n",
       "      <td>Series C</td>\n",
       "      <td>225000000</td>\n",
       "      <td>Bangalore, Karnataka, India</td>\n",
       "      <td>Udaan is a B2B trade platform, designed specif...</td>\n",
       "    </tr>\n",
       "    <tr>\n",
       "      <th>522</th>\n",
       "      <td>Happyeasygo Group</td>\n",
       "      <td>Tourism, Travel</td>\n",
       "      <td>Series A</td>\n",
       "      <td>—</td>\n",
       "      <td>Haryana, Haryana, India</td>\n",
       "      <td>HappyEasyGo is an online travel domain.</td>\n",
       "    </tr>\n",
       "    <tr>\n",
       "      <th>523</th>\n",
       "      <td>Mombay</td>\n",
       "      <td>Food and Beverage, Food Delivery, Internet</td>\n",
       "      <td>Seed</td>\n",
       "      <td>7500</td>\n",
       "      <td>Mumbai, Maharashtra, India</td>\n",
       "      <td>Mombay is a unique opportunity for housewives ...</td>\n",
       "    </tr>\n",
       "    <tr>\n",
       "      <th>524</th>\n",
       "      <td>Droni Tech</td>\n",
       "      <td>Information Technology</td>\n",
       "      <td>Seed</td>\n",
       "      <td>₹35,000,000</td>\n",
       "      <td>Mumbai, Maharashtra, India</td>\n",
       "      <td>Droni Tech manufacture UAVs and develop softwa...</td>\n",
       "    </tr>\n",
       "    <tr>\n",
       "      <th>525</th>\n",
       "      <td>Netmeds</td>\n",
       "      <td>Biotechnology, Health Care, Pharmaceutical</td>\n",
       "      <td>Series C</td>\n",
       "      <td>35000000</td>\n",
       "      <td>Chennai, Tamil Nadu, India</td>\n",
       "      <td>Welcome to India's most convenient pharmacy!</td>\n",
       "    </tr>\n",
       "  </tbody>\n",
       "</table>\n",
       "<p>525 rows × 6 columns</p>\n",
       "</div>"
      ],
      "text/plain": [
       "         Company_Brand                                             Sector   \n",
       "0      TheCollegeFever  Brand Marketing, Event Promotion, Marketing, S...  \\\n",
       "1      Happy Cow Dairy                               Agriculture, Farming   \n",
       "2           MyLoanCare   Credit, Financial Services, Lending, Marketplace   \n",
       "3          PayMe India                        Financial Services, FinTech   \n",
       "4             Eunimart                 E-Commerce Platforms, Retail, SaaS   \n",
       "..                 ...                                                ...   \n",
       "521              Udaan   B2B, Business Development, Internet, Marketplace   \n",
       "522  Happyeasygo Group                                    Tourism, Travel   \n",
       "523             Mombay         Food and Beverage, Food Delivery, Internet   \n",
       "524         Droni Tech                             Information Technology   \n",
       "525            Netmeds         Biotechnology, Health Care, Pharmaceutical   \n",
       "\n",
       "        Stage    Amount($)                       HeadQuarter   \n",
       "0        Seed       250000       Bangalore, Karnataka, India  \\\n",
       "1        Seed  ₹40,000,000        Mumbai, Maharashtra, India   \n",
       "2    Series A  ₹65,000,000           Gurgaon, Haryana, India   \n",
       "3       Angel      2000000       Noida, Uttar Pradesh, India   \n",
       "4        Seed            —  Hyderabad, Andhra Pradesh, India   \n",
       "..        ...          ...                               ...   \n",
       "521  Series C    225000000       Bangalore, Karnataka, India   \n",
       "522  Series A            —           Haryana, Haryana, India   \n",
       "523      Seed         7500        Mumbai, Maharashtra, India   \n",
       "524      Seed  ₹35,000,000        Mumbai, Maharashtra, India   \n",
       "525  Series C     35000000        Chennai, Tamil Nadu, India   \n",
       "\n",
       "                                          What_it_does  \n",
       "0    TheCollegeFever is a hub for fun, fiesta and f...  \n",
       "1    A startup which aggregates milk from dairy far...  \n",
       "2            Leading Online Loans Marketplace in India  \n",
       "3    PayMe India is an innovative FinTech organizat...  \n",
       "4    Eunimart is a one stop solution for merchants ...  \n",
       "..                                                 ...  \n",
       "521  Udaan is a B2B trade platform, designed specif...  \n",
       "522            HappyEasyGo is an online travel domain.  \n",
       "523  Mombay is a unique opportunity for housewives ...  \n",
       "524  Droni Tech manufacture UAVs and develop softwa...  \n",
       "525       Welcome to India's most convenient pharmacy!  \n",
       "\n",
       "[525 rows x 6 columns]"
      ]
     },
     "execution_count": 19,
     "metadata": {},
     "output_type": "execute_result"
    }
   ],
   "source": [
    "data_2018.drop_duplicates()\n",
    "\n"
   ]
  },
  {
   "cell_type": "code",
   "execution_count": 20,
   "metadata": {},
   "outputs": [
    {
     "data": {
      "text/plain": [
       "0           250000\n",
       "1      ₹40,000,000\n",
       "2      ₹65,000,000\n",
       "3          2000000\n",
       "4                —\n",
       "          ...     \n",
       "521      225000000\n",
       "522              —\n",
       "523           7500\n",
       "524    ₹35,000,000\n",
       "525       35000000\n",
       "Name: Amount($), Length: 526, dtype: object"
      ]
     },
     "execution_count": 20,
     "metadata": {},
     "output_type": "execute_result"
    }
   ],
   "source": [
    "#clean Amount column\n",
    "data_2018['Amount($)']"
   ]
  },
  {
   "cell_type": "code",
   "execution_count": 21,
   "metadata": {},
   "outputs": [
    {
     "data": {
      "text/plain": [
       "Company_Brand    0\n",
       "Sector           0\n",
       "Stage            0\n",
       "Amount($)        0\n",
       "HeadQuarter      0\n",
       "What_it_does     0\n",
       "dtype: int64"
      ]
     },
     "execution_count": 21,
     "metadata": {},
     "output_type": "execute_result"
    }
   ],
   "source": [
    "data_2018.isnull().sum()"
   ]
  },
  {
   "attachments": {},
   "cell_type": "markdown",
   "metadata": {},
   "source": [
    "Summary for 2018 dataset\n",
    "The shape for the 2018 data is 526 rows and 6 columns\n",
    "No missing values\n",
    "Colunm renamed to name related to the project\n",
    "One duplicated value\n",
    "/////////////////////////////////////////////\n",
    "Amount column need to be cleaned\n",
    "Amount column need to be changed to int or float from object"
   ]
  },
  {
   "cell_type": "code",
   "execution_count": 22,
   "metadata": {},
   "outputs": [],
   "source": [
    "#2019 data\n",
    "data_2019 = pd.read_csv(\"startup_funding2019.csv\")"
   ]
  },
  {
   "cell_type": "code",
   "execution_count": 23,
   "metadata": {},
   "outputs": [],
   "source": [
    "# data_2018.head()"
   ]
  },
  {
   "cell_type": "code",
   "execution_count": 24,
   "metadata": {},
   "outputs": [
    {
     "data": {
      "text/html": [
       "<div>\n",
       "<style scoped>\n",
       "    .dataframe tbody tr th:only-of-type {\n",
       "        vertical-align: middle;\n",
       "    }\n",
       "\n",
       "    .dataframe tbody tr th {\n",
       "        vertical-align: top;\n",
       "    }\n",
       "\n",
       "    .dataframe thead th {\n",
       "        text-align: right;\n",
       "    }\n",
       "</style>\n",
       "<table border=\"1\" class=\"dataframe\">\n",
       "  <thead>\n",
       "    <tr style=\"text-align: right;\">\n",
       "      <th></th>\n",
       "      <th>Company/Brand</th>\n",
       "      <th>Founded</th>\n",
       "      <th>HeadQuarter</th>\n",
       "      <th>Sector</th>\n",
       "      <th>What it does</th>\n",
       "      <th>Founders</th>\n",
       "      <th>Investor</th>\n",
       "      <th>Amount($)</th>\n",
       "      <th>Stage</th>\n",
       "    </tr>\n",
       "  </thead>\n",
       "  <tbody>\n",
       "    <tr>\n",
       "      <th>0</th>\n",
       "      <td>Bombay Shaving</td>\n",
       "      <td>NaN</td>\n",
       "      <td>NaN</td>\n",
       "      <td>Ecommerce</td>\n",
       "      <td>Provides a range of male grooming products</td>\n",
       "      <td>Shantanu Deshpande</td>\n",
       "      <td>Sixth Sense Ventures</td>\n",
       "      <td>$6,300,000</td>\n",
       "      <td>NaN</td>\n",
       "    </tr>\n",
       "    <tr>\n",
       "      <th>1</th>\n",
       "      <td>Ruangguru</td>\n",
       "      <td>2014.0</td>\n",
       "      <td>Mumbai</td>\n",
       "      <td>Edtech</td>\n",
       "      <td>A learning platform that provides topic-based ...</td>\n",
       "      <td>Adamas Belva Syah Devara, Iman Usman.</td>\n",
       "      <td>General Atlantic</td>\n",
       "      <td>$150,000,000</td>\n",
       "      <td>Series C</td>\n",
       "    </tr>\n",
       "    <tr>\n",
       "      <th>2</th>\n",
       "      <td>Eduisfun</td>\n",
       "      <td>NaN</td>\n",
       "      <td>Mumbai</td>\n",
       "      <td>Edtech</td>\n",
       "      <td>It aims to make learning fun via games.</td>\n",
       "      <td>Jatin Solanki</td>\n",
       "      <td>Deepak Parekh, Amitabh Bachchan, Piyush Pandey</td>\n",
       "      <td>$28,000,000</td>\n",
       "      <td>Fresh funding</td>\n",
       "    </tr>\n",
       "    <tr>\n",
       "      <th>3</th>\n",
       "      <td>HomeLane</td>\n",
       "      <td>2014.0</td>\n",
       "      <td>Chennai</td>\n",
       "      <td>Interior design</td>\n",
       "      <td>Provides interior designing solutions</td>\n",
       "      <td>Srikanth Iyer, Rama Harinath</td>\n",
       "      <td>Evolvence India Fund (EIF), Pidilite Group, FJ...</td>\n",
       "      <td>$30,000,000</td>\n",
       "      <td>Series D</td>\n",
       "    </tr>\n",
       "    <tr>\n",
       "      <th>4</th>\n",
       "      <td>Nu Genes</td>\n",
       "      <td>2004.0</td>\n",
       "      <td>Telangana</td>\n",
       "      <td>AgriTech</td>\n",
       "      <td>It is a seed company engaged in production, pr...</td>\n",
       "      <td>Narayana Reddy Punyala</td>\n",
       "      <td>Innovation in Food and Agriculture (IFA)</td>\n",
       "      <td>$6,000,000</td>\n",
       "      <td>NaN</td>\n",
       "    </tr>\n",
       "  </tbody>\n",
       "</table>\n",
       "</div>"
      ],
      "text/plain": [
       "    Company/Brand  Founded HeadQuarter           Sector   \n",
       "0  Bombay Shaving      NaN         NaN        Ecommerce  \\\n",
       "1       Ruangguru   2014.0      Mumbai           Edtech   \n",
       "2        Eduisfun      NaN      Mumbai           Edtech   \n",
       "3        HomeLane   2014.0     Chennai  Interior design   \n",
       "4        Nu Genes   2004.0   Telangana         AgriTech   \n",
       "\n",
       "                                        What it does   \n",
       "0         Provides a range of male grooming products  \\\n",
       "1  A learning platform that provides topic-based ...   \n",
       "2            It aims to make learning fun via games.   \n",
       "3              Provides interior designing solutions   \n",
       "4  It is a seed company engaged in production, pr...   \n",
       "\n",
       "                                Founders   \n",
       "0                     Shantanu Deshpande  \\\n",
       "1  Adamas Belva Syah Devara, Iman Usman.   \n",
       "2                          Jatin Solanki   \n",
       "3           Srikanth Iyer, Rama Harinath   \n",
       "4                 Narayana Reddy Punyala   \n",
       "\n",
       "                                            Investor     Amount($)   \n",
       "0                               Sixth Sense Ventures    $6,300,000  \\\n",
       "1                                   General Atlantic  $150,000,000   \n",
       "2     Deepak Parekh, Amitabh Bachchan, Piyush Pandey   $28,000,000   \n",
       "3  Evolvence India Fund (EIF), Pidilite Group, FJ...   $30,000,000   \n",
       "4           Innovation in Food and Agriculture (IFA)    $6,000,000   \n",
       "\n",
       "           Stage  \n",
       "0            NaN  \n",
       "1       Series C  \n",
       "2  Fresh funding  \n",
       "3       Series D  \n",
       "4            NaN  "
      ]
     },
     "execution_count": 24,
     "metadata": {},
     "output_type": "execute_result"
    }
   ],
   "source": [
    "data_2019.head()"
   ]
  },
  {
   "cell_type": "code",
   "execution_count": 25,
   "metadata": {},
   "outputs": [
    {
     "data": {
      "text/plain": [
       "(89, 9)"
      ]
     },
     "execution_count": 25,
     "metadata": {},
     "output_type": "execute_result"
    }
   ],
   "source": [
    "data_2019.shape"
   ]
  },
  {
   "cell_type": "code",
   "execution_count": 27,
   "metadata": {},
   "outputs": [
    {
     "data": {
      "text/plain": [
       "Index(['Company_Brand', 'Sector', 'Stage', 'Amount($)', 'HeadQuarter',\n",
       "       'What_it_does'],\n",
       "      dtype='object')"
      ]
     },
     "execution_count": 27,
     "metadata": {},
     "output_type": "execute_result"
    }
   ],
   "source": [
    "# data_2018.columns"
   ]
  },
  {
   "cell_type": "code",
   "execution_count": 26,
   "metadata": {},
   "outputs": [
    {
     "data": {
      "text/plain": [
       "Index(['Company/Brand', 'Founded', 'HeadQuarter', 'Sector', 'What it does',\n",
       "       'Founders', 'Investor', 'Amount($)', 'Stage'],\n",
       "      dtype='object')"
      ]
     },
     "execution_count": 26,
     "metadata": {},
     "output_type": "execute_result"
    }
   ],
   "source": [
    "data_2019.columns"
   ]
  },
  {
   "cell_type": "code",
   "execution_count": 31,
   "metadata": {},
   "outputs": [],
   "source": [
    "column_to_drop_2019 = [\"Founded\",\"Founders\",\"Investor\"]\n",
    "data_2019 = data_2019.drop(column_to_drop_2019, axis=1)\n",
    "\n"
   ]
  },
  {
   "cell_type": "code",
   "execution_count": 32,
   "metadata": {},
   "outputs": [
    {
     "data": {
      "text/plain": [
       "Index(['Company/Brand', 'HeadQuarter', 'Sector', 'What it does', 'Amount($)',\n",
       "       'Stage'],\n",
       "      dtype='object')"
      ]
     },
     "execution_count": 32,
     "metadata": {},
     "output_type": "execute_result"
    }
   ],
   "source": [
    "data_2019.columns"
   ]
  },
  {
   "cell_type": "code",
   "execution_count": 33,
   "metadata": {},
   "outputs": [
    {
     "name": "stdout",
     "output_type": "stream",
     "text": [
      "<class 'pandas.core.frame.DataFrame'>\n",
      "RangeIndex: 89 entries, 0 to 88\n",
      "Data columns (total 6 columns):\n",
      " #   Column         Non-Null Count  Dtype \n",
      "---  ------         --------------  ----- \n",
      " 0   Company/Brand  89 non-null     object\n",
      " 1   HeadQuarter    70 non-null     object\n",
      " 2   Sector         84 non-null     object\n",
      " 3   What it does   89 non-null     object\n",
      " 4   Amount($)      89 non-null     object\n",
      " 5   Stage          43 non-null     object\n",
      "dtypes: object(6)\n",
      "memory usage: 4.3+ KB\n"
     ]
    }
   ],
   "source": [
    "data_2019.info()"
   ]
  },
  {
   "cell_type": "code",
   "execution_count": 36,
   "metadata": {},
   "outputs": [
    {
     "data": {
      "text/plain": [
       "Company/Brand     0\n",
       "HeadQuarter      19\n",
       "Sector            5\n",
       "What it does      0\n",
       "Amount($)         0\n",
       "Stage            46\n",
       "dtype: int64"
      ]
     },
     "execution_count": 36,
     "metadata": {},
     "output_type": "execute_result"
    }
   ],
   "source": [
    "# missing values\n",
    "data_2019.isnull().sum()"
   ]
  },
  {
   "cell_type": "code",
   "execution_count": 47,
   "metadata": {},
   "outputs": [
    {
     "data": {
      "text/plain": [
       "0           NaN\n",
       "1        Mumbai\n",
       "2        Mumbai\n",
       "3       Chennai\n",
       "4     Telangana\n",
       "        ...    \n",
       "84       Mumbai\n",
       "85     Gurugram\n",
       "86        Delhi\n",
       "87        Delhi\n",
       "88    Rajasthan\n",
       "Name: HeadQuarter, Length: 89, dtype: object"
      ]
     },
     "execution_count": 47,
     "metadata": {},
     "output_type": "execute_result"
    }
   ],
   "source": [
    "data_2019['HeadQuarter']"
   ]
  },
  {
   "cell_type": "code",
   "execution_count": 46,
   "metadata": {},
   "outputs": [],
   "source": [
    "# imputer = SimpleImputer(strategy='mean')\n",
    "# X = [\"HeadQuarter\"]\n",
    "# imputer.fit(X)\n",
    "# X_imputed = imputer.transform(X)\n"
   ]
  },
  {
   "cell_type": "code",
   "execution_count": null,
   "metadata": {},
   "outputs": [],
   "source": [
    "\n"
   ]
  },
  {
   "attachments": {},
   "cell_type": "markdown",
   "metadata": {},
   "source": [
    "2020 DATASET $ CLEANING"
   ]
  },
  {
   "cell_type": "code",
   "execution_count": 55,
   "metadata": {},
   "outputs": [],
   "source": [
    "query = \"Select * from dbo.LP1_startup_funding2020\"\n",
    "data_2020 = pd.read_sql(query, connection)"
   ]
  },
  {
   "cell_type": "code",
   "execution_count": 77,
   "metadata": {},
   "outputs": [
    {
     "data": {
      "text/html": [
       "<div>\n",
       "<style scoped>\n",
       "    .dataframe tbody tr th:only-of-type {\n",
       "        vertical-align: middle;\n",
       "    }\n",
       "\n",
       "    .dataframe tbody tr th {\n",
       "        vertical-align: top;\n",
       "    }\n",
       "\n",
       "    .dataframe thead th {\n",
       "        text-align: right;\n",
       "    }\n",
       "</style>\n",
       "<table border=\"1\" class=\"dataframe\">\n",
       "  <thead>\n",
       "    <tr style=\"text-align: right;\">\n",
       "      <th></th>\n",
       "      <th>Company_Brand</th>\n",
       "      <th>HeadQuarter</th>\n",
       "      <th>Sector</th>\n",
       "      <th>What_it_does</th>\n",
       "      <th>Investor</th>\n",
       "      <th>Amount</th>\n",
       "      <th>Stage</th>\n",
       "    </tr>\n",
       "  </thead>\n",
       "  <tbody>\n",
       "    <tr>\n",
       "      <th>1005</th>\n",
       "      <td>Extra Edge</td>\n",
       "      <td>Pune</td>\n",
       "      <td>Edtech</td>\n",
       "      <td>Admission Marketing Automation software for th...</td>\n",
       "      <td>Sprout Venture Partners, Indian Angel Network</td>\n",
       "      <td>700000.0</td>\n",
       "      <td>Pre Series A</td>\n",
       "    </tr>\n",
       "    <tr>\n",
       "      <th>1006</th>\n",
       "      <td>Capital Quotient</td>\n",
       "      <td>Bangalore</td>\n",
       "      <td>Fintech</td>\n",
       "      <td>Investment advisor</td>\n",
       "      <td>Undisclosed</td>\n",
       "      <td>600000.0</td>\n",
       "      <td>None</td>\n",
       "    </tr>\n",
       "    <tr>\n",
       "      <th>1007</th>\n",
       "      <td>Karfa</td>\n",
       "      <td>Delhi</td>\n",
       "      <td>Ecommerce</td>\n",
       "      <td>It sells products crafted by artisans</td>\n",
       "      <td>Undisclosed</td>\n",
       "      <td>25000.0</td>\n",
       "      <td>Seed Round</td>\n",
       "    </tr>\n",
       "    <tr>\n",
       "      <th>1008</th>\n",
       "      <td>Gamerji</td>\n",
       "      <td>Delhi</td>\n",
       "      <td>Gaming</td>\n",
       "      <td>Esports tournament platform</td>\n",
       "      <td>La Gajjar Group</td>\n",
       "      <td>400000.0</td>\n",
       "      <td>None</td>\n",
       "    </tr>\n",
       "    <tr>\n",
       "      <th>1009</th>\n",
       "      <td>Bounce</td>\n",
       "      <td>Bangalore</td>\n",
       "      <td>Automotive and Rentals</td>\n",
       "      <td>Offers a variety of bikes and scooters that ca...</td>\n",
       "      <td>Accel Partners, B Capital</td>\n",
       "      <td>97500000.0</td>\n",
       "      <td>Series D</td>\n",
       "    </tr>\n",
       "    <tr>\n",
       "      <th>1010</th>\n",
       "      <td>Zinier</td>\n",
       "      <td>Bangalore</td>\n",
       "      <td>Automation</td>\n",
       "      <td>Provides intelligent field service automation</td>\n",
       "      <td>ICONIQ Capital</td>\n",
       "      <td>90000000.0</td>\n",
       "      <td>Series C</td>\n",
       "    </tr>\n",
       "    <tr>\n",
       "      <th>1011</th>\n",
       "      <td>ProEves</td>\n",
       "      <td>Delhi</td>\n",
       "      <td>Preschool Daycare</td>\n",
       "      <td>Provides tech-enabled, end-to-end childcare su...</td>\n",
       "      <td>1Crowd</td>\n",
       "      <td>507000.0</td>\n",
       "      <td>Seed Round</td>\n",
       "    </tr>\n",
       "    <tr>\n",
       "      <th>1012</th>\n",
       "      <td>Toddle</td>\n",
       "      <td>Bengaluru</td>\n",
       "      <td>None</td>\n",
       "      <td>Collaboration and productivity platform for te...</td>\n",
       "      <td>Matrix Partners India</td>\n",
       "      <td>NaN</td>\n",
       "      <td>None</td>\n",
       "    </tr>\n",
       "    <tr>\n",
       "      <th>1013</th>\n",
       "      <td>Aesthetic Nutrition</td>\n",
       "      <td>Bengaluru</td>\n",
       "      <td>Food diet</td>\n",
       "      <td>Markets and sells chewable dietary supplements</td>\n",
       "      <td>DSG Consumer Partners</td>\n",
       "      <td>NaN</td>\n",
       "      <td>Pre Series A</td>\n",
       "    </tr>\n",
       "    <tr>\n",
       "      <th>1014</th>\n",
       "      <td>Capital Float</td>\n",
       "      <td>Bangalore</td>\n",
       "      <td>Fintech</td>\n",
       "      <td>Digital lending</td>\n",
       "      <td>Sequoia Capital, Ribbit Capital, Amazon, Saif ...</td>\n",
       "      <td>15000000.0</td>\n",
       "      <td>None</td>\n",
       "    </tr>\n",
       "    <tr>\n",
       "      <th>1015</th>\n",
       "      <td>Ninjacart</td>\n",
       "      <td>Bangalore</td>\n",
       "      <td>B2B Agritech</td>\n",
       "      <td>Online grocery delivery platform</td>\n",
       "      <td>Flipkart India, Singapore-based GEC3</td>\n",
       "      <td>10000000.0</td>\n",
       "      <td>Series C</td>\n",
       "    </tr>\n",
       "    <tr>\n",
       "      <th>1016</th>\n",
       "      <td>TechnifyBiz</td>\n",
       "      <td>Bangalore</td>\n",
       "      <td>B2B Agritech</td>\n",
       "      <td>Online marketplace for non-perishable food items</td>\n",
       "      <td>Omnivore, Insitor Impact Asia Fund</td>\n",
       "      <td>2000000.0</td>\n",
       "      <td>Seed Round</td>\n",
       "    </tr>\n",
       "    <tr>\n",
       "      <th>1017</th>\n",
       "      <td>Wysh</td>\n",
       "      <td>Hyderabad</td>\n",
       "      <td>E-connect</td>\n",
       "      <td>Celebrity engagement and wishing platform</td>\n",
       "      <td>Kalaari Capital</td>\n",
       "      <td>2000000.0</td>\n",
       "      <td>Series A</td>\n",
       "    </tr>\n",
       "    <tr>\n",
       "      <th>1018</th>\n",
       "      <td>Keito</td>\n",
       "      <td>Pune</td>\n",
       "      <td>AI</td>\n",
       "      <td>Enterprise productivity startup</td>\n",
       "      <td>Suma Soft Pvt Ltd</td>\n",
       "      <td>160000.0</td>\n",
       "      <td>Seed Round</td>\n",
       "    </tr>\n",
       "    <tr>\n",
       "      <th>1019</th>\n",
       "      <td>Klub</td>\n",
       "      <td>Pune</td>\n",
       "      <td>Fintech</td>\n",
       "      <td>Provides growth financing to high-affinity brands</td>\n",
       "      <td>Sequoia Surge</td>\n",
       "      <td>2000000.0</td>\n",
       "      <td>Pre seed round</td>\n",
       "    </tr>\n",
       "    <tr>\n",
       "      <th>1020</th>\n",
       "      <td>Aadhar</td>\n",
       "      <td>Mumbai</td>\n",
       "      <td>Ecommerce</td>\n",
       "      <td>Ayurveda wellness and lifestyle consumer brand</td>\n",
       "      <td>Sprout Venture Partners, JITO Angel Network, L...</td>\n",
       "      <td>NaN</td>\n",
       "      <td>Seed Round</td>\n",
       "    </tr>\n",
       "    <tr>\n",
       "      <th>1021</th>\n",
       "      <td>IncubateHub</td>\n",
       "      <td>Bengaluru</td>\n",
       "      <td>Tech hub</td>\n",
       "      <td>Provides platform for Corporates to connect es...</td>\n",
       "      <td>Venture Catalysts</td>\n",
       "      <td>NaN</td>\n",
       "      <td>None</td>\n",
       "    </tr>\n",
       "    <tr>\n",
       "      <th>1022</th>\n",
       "      <td>Rage Coffee</td>\n",
       "      <td>Delhi</td>\n",
       "      <td>FMCG</td>\n",
       "      <td>Provides effective Instant Coffee Infused with...</td>\n",
       "      <td>Refex Capital</td>\n",
       "      <td>NaN</td>\n",
       "      <td>None</td>\n",
       "    </tr>\n",
       "    <tr>\n",
       "      <th>1023</th>\n",
       "      <td>Skilancer</td>\n",
       "      <td>Noida</td>\n",
       "      <td>Technology</td>\n",
       "      <td>Solar module cleaning system [MCS] providers</td>\n",
       "      <td>Venture Catalysts</td>\n",
       "      <td>NaN</td>\n",
       "      <td>None</td>\n",
       "    </tr>\n",
       "    <tr>\n",
       "      <th>1024</th>\n",
       "      <td>Harappa Education</td>\n",
       "      <td>New Delhi</td>\n",
       "      <td>Edtech</td>\n",
       "      <td>Provides online courses on foundational skills</td>\n",
       "      <td>James Murdoch-led Lupa Systems</td>\n",
       "      <td>NaN</td>\n",
       "      <td>None</td>\n",
       "    </tr>\n",
       "    <tr>\n",
       "      <th>1025</th>\n",
       "      <td>Rheo</td>\n",
       "      <td>New Delhi</td>\n",
       "      <td>Entertainment</td>\n",
       "      <td>Online e-sports streaming and community platform</td>\n",
       "      <td>Lightspeed Venture Partners, Sequoia Surge</td>\n",
       "      <td>2000000.0</td>\n",
       "      <td>None</td>\n",
       "    </tr>\n",
       "    <tr>\n",
       "      <th>1026</th>\n",
       "      <td>Axio Biosolutions</td>\n",
       "      <td>Bangalore</td>\n",
       "      <td>Medtech</td>\n",
       "      <td>Medical device manufacturer</td>\n",
       "      <td>Omidyar Network India</td>\n",
       "      <td>5200000.0</td>\n",
       "      <td>Series B</td>\n",
       "    </tr>\n",
       "    <tr>\n",
       "      <th>1027</th>\n",
       "      <td>Techbooze</td>\n",
       "      <td>Bangalore</td>\n",
       "      <td>Consultancy</td>\n",
       "      <td>Business Development, Consulting and Funding f...</td>\n",
       "      <td>Space Capital</td>\n",
       "      <td>15000000.0</td>\n",
       "      <td>Series A</td>\n",
       "    </tr>\n",
       "    <tr>\n",
       "      <th>1028</th>\n",
       "      <td>PayMart</td>\n",
       "      <td>Chandigarh</td>\n",
       "      <td>Fintech</td>\n",
       "      <td>Provides cardless cash withdrawals through sma...</td>\n",
       "      <td>IIM Ahmedabad’s incubator (CIIE.CO),Chandigarh...</td>\n",
       "      <td>NaN</td>\n",
       "      <td>None</td>\n",
       "    </tr>\n",
       "    <tr>\n",
       "      <th>1029</th>\n",
       "      <td>Testbook</td>\n",
       "      <td>Chandigarh</td>\n",
       "      <td>Edtech</td>\n",
       "      <td>Helps students prepare online for competitive ...</td>\n",
       "      <td>Iron Pillar</td>\n",
       "      <td>8400000.0</td>\n",
       "      <td>Series B</td>\n",
       "    </tr>\n",
       "    <tr>\n",
       "      <th>1030</th>\n",
       "      <td>FabAlley</td>\n",
       "      <td>Noida</td>\n",
       "      <td>Ecommerce</td>\n",
       "      <td>Online fashion store</td>\n",
       "      <td>Trifecta Capital</td>\n",
       "      <td>1100000.0</td>\n",
       "      <td>None</td>\n",
       "    </tr>\n",
       "    <tr>\n",
       "      <th>1031</th>\n",
       "      <td>HaikuJAM</td>\n",
       "      <td>Noida</td>\n",
       "      <td>None</td>\n",
       "      <td>Creative writing mobile platform</td>\n",
       "      <td>Lightbox. Social Capital, Dunce Capital</td>\n",
       "      <td>3400000.0</td>\n",
       "      <td>None</td>\n",
       "    </tr>\n",
       "    <tr>\n",
       "      <th>1032</th>\n",
       "      <td>Mamaearth</td>\n",
       "      <td>Noida</td>\n",
       "      <td>Ecommerce</td>\n",
       "      <td>Online baby and mother care brand</td>\n",
       "      <td>Sequoia India</td>\n",
       "      <td>18300000.0</td>\n",
       "      <td>Series A</td>\n",
       "    </tr>\n",
       "    <tr>\n",
       "      <th>1033</th>\n",
       "      <td>Rentomojo</td>\n",
       "      <td>Noida</td>\n",
       "      <td>Rental</td>\n",
       "      <td>Furniture, electronics, and appliance-centric ...</td>\n",
       "      <td>GMO Payment Gateway</td>\n",
       "      <td>2000000.0</td>\n",
       "      <td>None</td>\n",
       "    </tr>\n",
       "    <tr>\n",
       "      <th>1034</th>\n",
       "      <td>Zomato</td>\n",
       "      <td>Noida</td>\n",
       "      <td>Foodtech</td>\n",
       "      <td>Online food delivery and restaurant discovery ...</td>\n",
       "      <td>Ant Financial</td>\n",
       "      <td>150000000.0</td>\n",
       "      <td>None</td>\n",
       "    </tr>\n",
       "    <tr>\n",
       "      <th>1035</th>\n",
       "      <td>Byju</td>\n",
       "      <td>Noida</td>\n",
       "      <td>Edtech</td>\n",
       "      <td>Provides online learning classes</td>\n",
       "      <td>Tiger Global</td>\n",
       "      <td>200000000.0</td>\n",
       "      <td>None</td>\n",
       "    </tr>\n",
       "    <tr>\n",
       "      <th>1036</th>\n",
       "      <td>Generico</td>\n",
       "      <td>Mumbai</td>\n",
       "      <td>Pharmacy</td>\n",
       "      <td>Generic medicine focussed retail chain</td>\n",
       "      <td>Alteria Capital</td>\n",
       "      <td>1400000.0</td>\n",
       "      <td>None</td>\n",
       "    </tr>\n",
       "    <tr>\n",
       "      <th>1037</th>\n",
       "      <td>HighRadius</td>\n",
       "      <td>Hyderabad</td>\n",
       "      <td>SaaS</td>\n",
       "      <td>An AI-based platform, to automate accounts rec...</td>\n",
       "      <td>ICONIQ Capital</td>\n",
       "      <td>125000000.0</td>\n",
       "      <td>Series B</td>\n",
       "    </tr>\n",
       "    <tr>\n",
       "      <th>1038</th>\n",
       "      <td>Chai Kings</td>\n",
       "      <td>Chennai</td>\n",
       "      <td>Beverage</td>\n",
       "      <td>It offers a range of tea in various flavour</td>\n",
       "      <td>The Chennai Angels (TCA)</td>\n",
       "      <td>1000000.0</td>\n",
       "      <td>None</td>\n",
       "    </tr>\n",
       "    <tr>\n",
       "      <th>1039</th>\n",
       "      <td>Rivigo</td>\n",
       "      <td>Gurugram</td>\n",
       "      <td>Logistics</td>\n",
       "      <td>It offers delivery services across India to re...</td>\n",
       "      <td>Trifecta Capital</td>\n",
       "      <td>3400000.0</td>\n",
       "      <td>Series F</td>\n",
       "    </tr>\n",
       "    <tr>\n",
       "      <th>1040</th>\n",
       "      <td>BuildPan</td>\n",
       "      <td>Indore</td>\n",
       "      <td>SaaS</td>\n",
       "      <td>It helps developers to test, integrate and dep...</td>\n",
       "      <td>HNIs in India, Japan, and the US</td>\n",
       "      <td>NaN</td>\n",
       "      <td>Seed Round</td>\n",
       "    </tr>\n",
       "    <tr>\n",
       "      <th>1041</th>\n",
       "      <td>Shiksha</td>\n",
       "      <td>Indore</td>\n",
       "      <td>Edtech</td>\n",
       "      <td>It makes college selection easy for students l...</td>\n",
       "      <td>Mumbai Angels Network</td>\n",
       "      <td>181000.0</td>\n",
       "      <td>None</td>\n",
       "    </tr>\n",
       "    <tr>\n",
       "      <th>1042</th>\n",
       "      <td>Super Surfaces</td>\n",
       "      <td>Hyderabad</td>\n",
       "      <td>Deisgning</td>\n",
       "      <td>A design solution based company</td>\n",
       "      <td>Vishnu Reddy</td>\n",
       "      <td>500000.0</td>\n",
       "      <td>Series A</td>\n",
       "    </tr>\n",
       "    <tr>\n",
       "      <th>1043</th>\n",
       "      <td>Quicko</td>\n",
       "      <td>Ahmedabad</td>\n",
       "      <td>Taxation</td>\n",
       "      <td>Online tax planning and filing platform</td>\n",
       "      <td>Zerodha fintech fund, Rainmatter</td>\n",
       "      <td>280000.0</td>\n",
       "      <td>None</td>\n",
       "    </tr>\n",
       "    <tr>\n",
       "      <th>1044</th>\n",
       "      <td>Satin Creditcare</td>\n",
       "      <td>Gurgaon</td>\n",
       "      <td>Fintech</td>\n",
       "      <td>A micro finance company</td>\n",
       "      <td>Austrian Bank</td>\n",
       "      <td>15000000.0</td>\n",
       "      <td>None</td>\n",
       "    </tr>\n",
       "    <tr>\n",
       "      <th>1045</th>\n",
       "      <td>XpressBees</td>\n",
       "      <td>Gurgaon</td>\n",
       "      <td>Logistics</td>\n",
       "      <td>Provides end to end supply chain solutions</td>\n",
       "      <td>Alibaba</td>\n",
       "      <td>10000000.0</td>\n",
       "      <td>None</td>\n",
       "    </tr>\n",
       "    <tr>\n",
       "      <th>1046</th>\n",
       "      <td>FarmERP</td>\n",
       "      <td>Pune</td>\n",
       "      <td>Agritech</td>\n",
       "      <td>Smart agriculture management ERP software plat...</td>\n",
       "      <td>TechnoGen</td>\n",
       "      <td>NaN</td>\n",
       "      <td>Series A</td>\n",
       "    </tr>\n",
       "    <tr>\n",
       "      <th>1047</th>\n",
       "      <td>Wealth Bucket</td>\n",
       "      <td>Pune</td>\n",
       "      <td>Fintech</td>\n",
       "      <td>An online platform for mutual fund investments</td>\n",
       "      <td>NorthStar, Vinod Khatumal</td>\n",
       "      <td>3000000.0</td>\n",
       "      <td>None</td>\n",
       "    </tr>\n",
       "    <tr>\n",
       "      <th>1048</th>\n",
       "      <td>GoMechanic</td>\n",
       "      <td>Delhi</td>\n",
       "      <td>Automobile Technology</td>\n",
       "      <td>Find automobile repair and maintenance service...</td>\n",
       "      <td>Chiratae Ventures, Sequoia Capital, Orios Vent...</td>\n",
       "      <td>14700000.0</td>\n",
       "      <td>Series B</td>\n",
       "    </tr>\n",
       "    <tr>\n",
       "      <th>1049</th>\n",
       "      <td>Fashor</td>\n",
       "      <td>Chennai</td>\n",
       "      <td>Fashion</td>\n",
       "      <td>Women’s fashion and apparel</td>\n",
       "      <td>Sprout venture partners</td>\n",
       "      <td>1000000.0</td>\n",
       "      <td>Pre Series A</td>\n",
       "    </tr>\n",
       "    <tr>\n",
       "      <th>1050</th>\n",
       "      <td>Leverage Edu</td>\n",
       "      <td>Delhi</td>\n",
       "      <td>Edtech</td>\n",
       "      <td>AI enabled marketplace that provides career gu...</td>\n",
       "      <td>DSG Consumer Partners, Blume Ventures</td>\n",
       "      <td>1500000.0</td>\n",
       "      <td>None</td>\n",
       "    </tr>\n",
       "    <tr>\n",
       "      <th>1051</th>\n",
       "      <td>EpiFi</td>\n",
       "      <td>Delhi</td>\n",
       "      <td>Fintech</td>\n",
       "      <td>It offers customers with a single interface fo...</td>\n",
       "      <td>Sequoia India, Ribbit Capital</td>\n",
       "      <td>13200000.0</td>\n",
       "      <td>Seed Round</td>\n",
       "    </tr>\n",
       "    <tr>\n",
       "      <th>1052</th>\n",
       "      <td>Purplle</td>\n",
       "      <td>Mumbai</td>\n",
       "      <td>Cosmetics</td>\n",
       "      <td>Online makeup and beauty products retailer</td>\n",
       "      <td>Verlinvest</td>\n",
       "      <td>8000000.0</td>\n",
       "      <td>None</td>\n",
       "    </tr>\n",
       "    <tr>\n",
       "      <th>1053</th>\n",
       "      <td>Shuttl</td>\n",
       "      <td>Delhi</td>\n",
       "      <td>Transport</td>\n",
       "      <td>App based bus aggregator serice</td>\n",
       "      <td>SIG Global India Fund LLP.</td>\n",
       "      <td>8043000.0</td>\n",
       "      <td>Series C</td>\n",
       "    </tr>\n",
       "    <tr>\n",
       "      <th>1054</th>\n",
       "      <td>Pando</td>\n",
       "      <td>Chennai</td>\n",
       "      <td>Logitech</td>\n",
       "      <td>Networked logistics management software</td>\n",
       "      <td>Chiratae Ventures</td>\n",
       "      <td>9000000.0</td>\n",
       "      <td>Series A</td>\n",
       "    </tr>\n",
       "  </tbody>\n",
       "</table>\n",
       "</div>"
      ],
      "text/plain": [
       "            Company_Brand HeadQuarter                  Sector   \n",
       "1005           Extra Edge        Pune                  Edtech  \\\n",
       "1006     Capital Quotient   Bangalore                 Fintech   \n",
       "1007                Karfa       Delhi               Ecommerce   \n",
       "1008              Gamerji       Delhi                  Gaming   \n",
       "1009               Bounce   Bangalore  Automotive and Rentals   \n",
       "1010               Zinier   Bangalore              Automation   \n",
       "1011              ProEves       Delhi       Preschool Daycare   \n",
       "1012               Toddle   Bengaluru                    None   \n",
       "1013  Aesthetic Nutrition   Bengaluru               Food diet   \n",
       "1014        Capital Float   Bangalore                 Fintech   \n",
       "1015            Ninjacart   Bangalore            B2B Agritech   \n",
       "1016          TechnifyBiz   Bangalore            B2B Agritech   \n",
       "1017                 Wysh   Hyderabad               E-connect   \n",
       "1018                Keito        Pune                      AI   \n",
       "1019                 Klub        Pune                 Fintech   \n",
       "1020               Aadhar      Mumbai               Ecommerce   \n",
       "1021          IncubateHub   Bengaluru                Tech hub   \n",
       "1022          Rage Coffee       Delhi                    FMCG   \n",
       "1023            Skilancer       Noida              Technology   \n",
       "1024    Harappa Education   New Delhi                  Edtech   \n",
       "1025                 Rheo   New Delhi           Entertainment   \n",
       "1026    Axio Biosolutions   Bangalore                 Medtech   \n",
       "1027            Techbooze   Bangalore             Consultancy   \n",
       "1028              PayMart  Chandigarh                 Fintech   \n",
       "1029             Testbook  Chandigarh                  Edtech   \n",
       "1030             FabAlley       Noida               Ecommerce   \n",
       "1031             HaikuJAM       Noida                    None   \n",
       "1032            Mamaearth       Noida               Ecommerce   \n",
       "1033            Rentomojo       Noida                  Rental   \n",
       "1034               Zomato       Noida                Foodtech   \n",
       "1035                 Byju       Noida                  Edtech   \n",
       "1036             Generico      Mumbai                Pharmacy   \n",
       "1037           HighRadius   Hyderabad                    SaaS   \n",
       "1038           Chai Kings     Chennai                Beverage   \n",
       "1039               Rivigo    Gurugram               Logistics   \n",
       "1040             BuildPan      Indore                    SaaS   \n",
       "1041              Shiksha      Indore                  Edtech   \n",
       "1042       Super Surfaces   Hyderabad               Deisgning   \n",
       "1043               Quicko   Ahmedabad                Taxation   \n",
       "1044     Satin Creditcare     Gurgaon                 Fintech   \n",
       "1045           XpressBees     Gurgaon               Logistics   \n",
       "1046              FarmERP        Pune                Agritech   \n",
       "1047        Wealth Bucket        Pune                 Fintech   \n",
       "1048           GoMechanic       Delhi   Automobile Technology   \n",
       "1049               Fashor     Chennai                 Fashion   \n",
       "1050         Leverage Edu       Delhi                  Edtech   \n",
       "1051                EpiFi       Delhi                 Fintech   \n",
       "1052              Purplle      Mumbai               Cosmetics   \n",
       "1053               Shuttl       Delhi               Transport   \n",
       "1054                Pando     Chennai                Logitech   \n",
       "\n",
       "                                           What_it_does   \n",
       "1005  Admission Marketing Automation software for th...  \\\n",
       "1006                                 Investment advisor   \n",
       "1007              It sells products crafted by artisans   \n",
       "1008                        Esports tournament platform   \n",
       "1009  Offers a variety of bikes and scooters that ca...   \n",
       "1010      Provides intelligent field service automation   \n",
       "1011  Provides tech-enabled, end-to-end childcare su...   \n",
       "1012  Collaboration and productivity platform for te...   \n",
       "1013     Markets and sells chewable dietary supplements   \n",
       "1014                                    Digital lending   \n",
       "1015                   Online grocery delivery platform   \n",
       "1016   Online marketplace for non-perishable food items   \n",
       "1017          Celebrity engagement and wishing platform   \n",
       "1018                    Enterprise productivity startup   \n",
       "1019  Provides growth financing to high-affinity brands   \n",
       "1020     Ayurveda wellness and lifestyle consumer brand   \n",
       "1021  Provides platform for Corporates to connect es...   \n",
       "1022  Provides effective Instant Coffee Infused with...   \n",
       "1023       Solar module cleaning system [MCS] providers   \n",
       "1024     Provides online courses on foundational skills   \n",
       "1025   Online e-sports streaming and community platform   \n",
       "1026                        Medical device manufacturer   \n",
       "1027  Business Development, Consulting and Funding f...   \n",
       "1028  Provides cardless cash withdrawals through sma...   \n",
       "1029  Helps students prepare online for competitive ...   \n",
       "1030                               Online fashion store   \n",
       "1031                   Creative writing mobile platform   \n",
       "1032                  Online baby and mother care brand   \n",
       "1033  Furniture, electronics, and appliance-centric ...   \n",
       "1034  Online food delivery and restaurant discovery ...   \n",
       "1035                   Provides online learning classes   \n",
       "1036             Generic medicine focussed retail chain   \n",
       "1037  An AI-based platform, to automate accounts rec...   \n",
       "1038        It offers a range of tea in various flavour   \n",
       "1039  It offers delivery services across India to re...   \n",
       "1040  It helps developers to test, integrate and dep...   \n",
       "1041  It makes college selection easy for students l...   \n",
       "1042                    A design solution based company   \n",
       "1043            Online tax planning and filing platform   \n",
       "1044                            A micro finance company   \n",
       "1045         Provides end to end supply chain solutions   \n",
       "1046  Smart agriculture management ERP software plat...   \n",
       "1047     An online platform for mutual fund investments   \n",
       "1048  Find automobile repair and maintenance service...   \n",
       "1049                        Women’s fashion and apparel   \n",
       "1050  AI enabled marketplace that provides career gu...   \n",
       "1051  It offers customers with a single interface fo...   \n",
       "1052         Online makeup and beauty products retailer   \n",
       "1053                    App based bus aggregator serice   \n",
       "1054            Networked logistics management software   \n",
       "\n",
       "                                               Investor       Amount   \n",
       "1005      Sprout Venture Partners, Indian Angel Network     700000.0  \\\n",
       "1006                                        Undisclosed     600000.0   \n",
       "1007                                        Undisclosed      25000.0   \n",
       "1008                                    La Gajjar Group     400000.0   \n",
       "1009                          Accel Partners, B Capital   97500000.0   \n",
       "1010                                     ICONIQ Capital   90000000.0   \n",
       "1011                                             1Crowd     507000.0   \n",
       "1012                              Matrix Partners India          NaN   \n",
       "1013                              DSG Consumer Partners          NaN   \n",
       "1014  Sequoia Capital, Ribbit Capital, Amazon, Saif ...   15000000.0   \n",
       "1015               Flipkart India, Singapore-based GEC3   10000000.0   \n",
       "1016                 Omnivore, Insitor Impact Asia Fund    2000000.0   \n",
       "1017                                    Kalaari Capital    2000000.0   \n",
       "1018                                  Suma Soft Pvt Ltd     160000.0   \n",
       "1019                                      Sequoia Surge    2000000.0   \n",
       "1020  Sprout Venture Partners, JITO Angel Network, L...          NaN   \n",
       "1021                                  Venture Catalysts          NaN   \n",
       "1022                                      Refex Capital          NaN   \n",
       "1023                                  Venture Catalysts          NaN   \n",
       "1024                     James Murdoch-led Lupa Systems          NaN   \n",
       "1025         Lightspeed Venture Partners, Sequoia Surge    2000000.0   \n",
       "1026                              Omidyar Network India    5200000.0   \n",
       "1027                                      Space Capital   15000000.0   \n",
       "1028  IIM Ahmedabad’s incubator (CIIE.CO),Chandigarh...          NaN   \n",
       "1029                                        Iron Pillar    8400000.0   \n",
       "1030                                   Trifecta Capital    1100000.0   \n",
       "1031            Lightbox. Social Capital, Dunce Capital    3400000.0   \n",
       "1032                                      Sequoia India   18300000.0   \n",
       "1033                                GMO Payment Gateway    2000000.0   \n",
       "1034                                      Ant Financial  150000000.0   \n",
       "1035                                       Tiger Global  200000000.0   \n",
       "1036                                    Alteria Capital    1400000.0   \n",
       "1037                                     ICONIQ Capital  125000000.0   \n",
       "1038                           The Chennai Angels (TCA)    1000000.0   \n",
       "1039                                   Trifecta Capital    3400000.0   \n",
       "1040                   HNIs in India, Japan, and the US          NaN   \n",
       "1041                              Mumbai Angels Network     181000.0   \n",
       "1042                                       Vishnu Reddy     500000.0   \n",
       "1043                   Zerodha fintech fund, Rainmatter     280000.0   \n",
       "1044                                      Austrian Bank   15000000.0   \n",
       "1045                                            Alibaba   10000000.0   \n",
       "1046                                          TechnoGen          NaN   \n",
       "1047                          NorthStar, Vinod Khatumal    3000000.0   \n",
       "1048  Chiratae Ventures, Sequoia Capital, Orios Vent...   14700000.0   \n",
       "1049                            Sprout venture partners    1000000.0   \n",
       "1050              DSG Consumer Partners, Blume Ventures    1500000.0   \n",
       "1051                      Sequoia India, Ribbit Capital   13200000.0   \n",
       "1052                                         Verlinvest    8000000.0   \n",
       "1053                         SIG Global India Fund LLP.    8043000.0   \n",
       "1054                                  Chiratae Ventures    9000000.0   \n",
       "\n",
       "               Stage  \n",
       "1005    Pre Series A  \n",
       "1006            None  \n",
       "1007      Seed Round  \n",
       "1008            None  \n",
       "1009        Series D  \n",
       "1010        Series C  \n",
       "1011      Seed Round  \n",
       "1012            None  \n",
       "1013    Pre Series A  \n",
       "1014            None  \n",
       "1015        Series C  \n",
       "1016      Seed Round  \n",
       "1017        Series A  \n",
       "1018      Seed Round  \n",
       "1019  Pre seed round  \n",
       "1020      Seed Round  \n",
       "1021            None  \n",
       "1022            None  \n",
       "1023            None  \n",
       "1024            None  \n",
       "1025            None  \n",
       "1026        Series B  \n",
       "1027        Series A  \n",
       "1028            None  \n",
       "1029        Series B  \n",
       "1030            None  \n",
       "1031            None  \n",
       "1032        Series A  \n",
       "1033            None  \n",
       "1034            None  \n",
       "1035            None  \n",
       "1036            None  \n",
       "1037        Series B  \n",
       "1038            None  \n",
       "1039        Series F  \n",
       "1040      Seed Round  \n",
       "1041            None  \n",
       "1042        Series A  \n",
       "1043            None  \n",
       "1044            None  \n",
       "1045            None  \n",
       "1046        Series A  \n",
       "1047            None  \n",
       "1048        Series B  \n",
       "1049    Pre Series A  \n",
       "1050            None  \n",
       "1051      Seed Round  \n",
       "1052            None  \n",
       "1053        Series C  \n",
       "1054        Series A  "
      ]
     },
     "execution_count": 77,
     "metadata": {},
     "output_type": "execute_result"
    }
   ],
   "source": [
    "# data_2020.head(50)\n",
    "data_2020.tail(50)"
   ]
  },
  {
   "cell_type": "code",
   "execution_count": 57,
   "metadata": {},
   "outputs": [
    {
     "data": {
      "text/plain": [
       "(1055, 10)"
      ]
     },
     "execution_count": 57,
     "metadata": {},
     "output_type": "execute_result"
    }
   ],
   "source": [
    "data_2020.shape"
   ]
  },
  {
   "cell_type": "code",
   "execution_count": 58,
   "metadata": {},
   "outputs": [
    {
     "data": {
      "text/plain": [
       "Index(['Company_Brand', 'Founded', 'HeadQuarter', 'Sector', 'What_it_does',\n",
       "       'Founders', 'Investor', 'Amount', 'Stage', 'column10'],\n",
       "      dtype='object')"
      ]
     },
     "execution_count": 58,
     "metadata": {},
     "output_type": "execute_result"
    }
   ],
   "source": [
    "data_2020.columns"
   ]
  },
  {
   "cell_type": "code",
   "execution_count": 59,
   "metadata": {},
   "outputs": [
    {
     "name": "stdout",
     "output_type": "stream",
     "text": [
      "<class 'pandas.core.frame.DataFrame'>\n",
      "RangeIndex: 1055 entries, 0 to 1054\n",
      "Data columns (total 10 columns):\n",
      " #   Column         Non-Null Count  Dtype  \n",
      "---  ------         --------------  -----  \n",
      " 0   Company_Brand  1055 non-null   object \n",
      " 1   Founded        842 non-null    float64\n",
      " 2   HeadQuarter    961 non-null    object \n",
      " 3   Sector         1042 non-null   object \n",
      " 4   What_it_does   1055 non-null   object \n",
      " 5   Founders       1043 non-null   object \n",
      " 6   Investor       1017 non-null   object \n",
      " 7   Amount         801 non-null    float64\n",
      " 8   Stage          591 non-null    object \n",
      " 9   column10       2 non-null      object \n",
      "dtypes: float64(2), object(8)\n",
      "memory usage: 82.5+ KB\n"
     ]
    }
   ],
   "source": [
    "data_2020.info()"
   ]
  },
  {
   "cell_type": "code",
   "execution_count": 60,
   "metadata": {},
   "outputs": [
    {
     "data": {
      "text/plain": [
       "Company_Brand       0\n",
       "Founded           213\n",
       "HeadQuarter        94\n",
       "Sector             13\n",
       "What_it_does        0\n",
       "Founders           12\n",
       "Investor           38\n",
       "Amount            254\n",
       "Stage             464\n",
       "column10         1053\n",
       "dtype: int64"
      ]
     },
     "execution_count": 60,
     "metadata": {},
     "output_type": "execute_result"
    }
   ],
   "source": [
    "\n",
    "#finding the missing value\n",
    "data_2020.isnull().sum()"
   ]
  },
  {
   "cell_type": "code",
   "execution_count": 62,
   "metadata": {},
   "outputs": [],
   "source": [
    "#Drop the columns that are not needed.\n",
    "column_to_drop_2020 = [\"Founded\", \"Founders\", \"column10\"]\n",
    "data_2020 = data_2020.drop(column_to_drop_2020, axis=1)"
   ]
  },
  {
   "cell_type": "code",
   "execution_count": 63,
   "metadata": {},
   "outputs": [
    {
     "data": {
      "text/plain": [
       "Index(['Company_Brand', 'HeadQuarter', 'Sector', 'What_it_does', 'Investor',\n",
       "       'Amount', 'Stage'],\n",
       "      dtype='object')"
      ]
     },
     "execution_count": 63,
     "metadata": {},
     "output_type": "execute_result"
    }
   ],
   "source": [
    "# check if the columns have been dropped\n",
    "data_2020.columns"
   ]
  },
  {
   "cell_type": "code",
   "execution_count": 65,
   "metadata": {},
   "outputs": [
    {
     "name": "stdout",
     "output_type": "stream",
     "text": [
      "<class 'pandas.core.frame.DataFrame'>\n",
      "RangeIndex: 1055 entries, 0 to 1054\n",
      "Data columns (total 7 columns):\n",
      " #   Column         Non-Null Count  Dtype  \n",
      "---  ------         --------------  -----  \n",
      " 0   Company_Brand  1055 non-null   object \n",
      " 1   HeadQuarter    961 non-null    object \n",
      " 2   Sector         1042 non-null   object \n",
      " 3   What_it_does   1055 non-null   object \n",
      " 4   Investor       1017 non-null   object \n",
      " 5   Amount         801 non-null    float64\n",
      " 6   Stage          591 non-null    object \n",
      "dtypes: float64(1), object(6)\n",
      "memory usage: 57.8+ KB\n"
     ]
    }
   ],
   "source": [
    "#Unwanted columns have been dropped\n",
    "data_2020.info()"
   ]
  },
  {
   "cell_type": "code",
   "execution_count": 66,
   "metadata": {},
   "outputs": [
    {
     "data": {
      "text/plain": [
       "array(['Aqgromalin', 'Krayonnz', 'PadCare Labs', 'NCOME', 'Gramophone',\n",
       "       'qZense', 'MyClassboard', 'Metvy', 'Rupeek', 'Gig India',\n",
       "       'Slurrp Farm', 'Medfin', 'MasterG', 'Brila 91', 'FoodyBuddy',\n",
       "       'Zomato', 'OurEye.ai', 'Shiprocket', 'Pine Labs',\n",
       "       'Moneyboxx Finance', 'EWar', 'SucSEED Indovation', 'TaxBuddy.com',\n",
       "       'Awign Enterprises', 'Circle of Angels', 'CoinDCX', 'Glance',\n",
       "       'VerSe Innovation', 'Voosh', 'Delhivery', 'Arya', 'Pickrr',\n",
       "       'PhonePe', 'Countingwell', 'Callify.ai', 'Hudle', 'Cover it Up',\n",
       "       'BiteSpeed', 'WakeFit', 'Sreyas Holistic Remedies', 'Fleeca India',\n",
       "       'M1xchange', 'Exotel', 'PagarBook', 'PointOne Capital', 'Ayana',\n",
       "       'Fisdom', 'Tinker Coders', 'Infinite Uptime', 'HappyLocate',\n",
       "       'Loop Health', 'NeoDocs', 'The ePlane', 'TagMango', 'The New Shop',\n",
       "       'MobiKwik', 'DebugsBunny', 'BHIVE Investech', 'Rivigo', 'ZipLoan',\n",
       "       'Swipez', 'Humus', 'Artivatic.ai', 'Prescinto', 'Toppeq',\n",
       "       'Bolo Indya', 'Bombay Play', 'FreshToHome', 'KIKO TV',\n",
       "       'Atomberg Technologies', 'DealShare', 'Smallcase', 'CueMath',\n",
       "       'Gamerji', '5C Network', 'Ethereum Push Notification Service',\n",
       "       'Mihup', 'RuralBasket', 'WayCool Foods', 'Infra.Market',\n",
       "       'Info Edge Venture', 'Clovia', 'Codingal', 'CRED',\n",
       "       'Vistaar Finance', \"Let's Dive\", 'Habitat', 'SAWO Labs', 'Signzy',\n",
       "       'KopyKitab', 'Kyt', 'Raskik', 'GetWork',\n",
       "       'Mobile Premier League (MPL)', 'Pravasirojgar', 'Omatra Hotels',\n",
       "       'Awign', 'NewsReach', 'Cashfree', 'Credgenics', 'GeoIQ',\n",
       "       'Country Delight', 'Quintype', 'CARS24', 'Astrogate Labs',\n",
       "       'Power Gummies', 'Cityflo', 'AlgoBulls', 'Inntot', 'Ensuredit',\n",
       "       'Shipsy', 'ERPNext', 'LightSpeedAI', 'Grip Invest', 'Unacademy',\n",
       "       'Yellow Classes', 'Plum', 'STAGE', 'Nykaa', 'Kaagaz Scanner',\n",
       "       'NIRA', 'Prolixr', \"Byju's\", 'DaMENSCH', 'SignalX', 'Lancify',\n",
       "       'Krimanshi', 'Instoried', 'PlayerzPot', 'Instamojo', 'Turtlemint',\n",
       "       'Arata', 'MPL', 'True Balance', 'Thrive', 'Kitchens Centre',\n",
       "       'Prescribe', 'Nepra', 'inFeedo', 'Shilpa Sciences', 'Arzooo',\n",
       "       'MindTickle', 'Slice', 'Rapawalk', \"Oga Fit's\", 'LAVAL',\n",
       "       'Stride Ventures', 'BlackSoil', 'Biocon', 'Clientjoy',\n",
       "       'Xpressbees', 'GalaxyCard', 'Wellness Forever', 'MoooFarm',\n",
       "       'BitClass', 'Gonuts', 'Uolo', 'Kirana King', 'Jade Forest',\n",
       "       'iKure', 'FrontRow', 'Reliance Retail', 'TUBBR', 'Ather Energy',\n",
       "       'Routematic', 'LivFin', 'Universal Sportsbiz Pvt Ltd',\n",
       "       'Lattu Kids', 'Eggoz', 'Steradian Semiconductors', 'CHARGE+ZONE',\n",
       "       'Stones2milestones', 'Udacity', 'AjnaLens', 'Gully Network',\n",
       "       'TurboHire', 'Traya', 'Charcoal Eats', 'Mitron TV', 'Svami',\n",
       "       'Dhurnia', 'Expertrons', 'Leena AI', 'Bizlog', 'Tamasha.live',\n",
       "       'Fedo', 'FabHotels', 'Freshokartz', 'FlexiLoans', 'Agrix',\n",
       "       'BharatAgri', 'FreshtoHome', 'Credable', 'Railofy',\n",
       "       'Finova Capital', 'Teachmint', 'Peel-Works', 'Janani',\n",
       "       'Finelistings', 'Wellversed', 'Jumbotail', 'Winzo', 'mCaffeine',\n",
       "       'Pocket FM', 'Snackible', 'TagZ Foods', 'Genius Teacher',\n",
       "       'Krimanshi Feeds', 'Origo', 'GetVantage', 'Betterplace', 'Biddano',\n",
       "       'InVideo', 'Hubilo', 'BASIC Home Loan', 'Ketos', 'SUGAR cosmetics',\n",
       "       'Ahaguru', 'Tekion', 'Brighteye Ventures', 'EzeRx', 'VitalTech',\n",
       "       'Ultraviolette Automotive', 'Tring', 'Rare Planet', 'GoodGamer',\n",
       "       'InnAccel', 'Tiliter', 'Slintel', 'SoOLEGAL', 'HobSpace',\n",
       "       'Supplynote', 'Hire Me Car', 'ShopUp', 'Harmonizer India',\n",
       "       'Dukaan', 'CredR', 'Satyukt', 'RACEnergy', 'TREAD', 'Anveshan',\n",
       "       'TeaMonk', 'Fleetx', 'ReNEWate', 'Tango Eye', 'Avataa Me',\n",
       "       'Arrival', 'Cover Genius', 'Phononic Vibes', 'MikeLegal', 'Clair',\n",
       "       'Gourmet Garden', 'Miko', 'Razorpay', 'Ninjacart', 'Wow! Momo',\n",
       "       'Pepper Content', 'LIVSPACE', 'Acculi Labs', 'Your MD', 'Antaios',\n",
       "       'Unnati', 'Disprz', 'Uni', 'Credit Wise Capital', 'Chargebee',\n",
       "       'Reliance Retail Ventures Ltd', 'Winuall', 'Genrobotics', 'Livve',\n",
       "       'Ergos', 'Krishitantra', 'PakkaProfile', 'Monet Networks',\n",
       "       'Unocoin', 'Pesto', 'NirogStreet', 'Bambrew', 'Omnify',\n",
       "       'Fanball XI', 'Treebo Hotels', 'GPS Renewables', 'Public',\n",
       "       'Legal Salah', 'FanPlay', 'ECOSTP', 'Coralogix', 'Equiwatt',\n",
       "       'Reliance Retail Ventures', 'Zhangmen', 'AgroWave',\n",
       "       'Sapio Analytics', 'Taimei', 'Avanse Financial Services',\n",
       "       'Industry Buying', 'Hopscotch', 'Pristyn Care', 'WoodenStreet',\n",
       "       'ACKO', 'Farmers Fresh Zone', 'Invento', 'Infurnia',\n",
       "       \"AnalytIQSports's SuperCric\", 'Snowflake', 'GenieTalk',\n",
       "       'Classplus', 'Mobile Premier League', 'Fourth Partner Energy',\n",
       "       'Flipkart', 'Vivriti Capital', 'InsuranceDekho', 'BestDoc',\n",
       "       'Byju’s', 'Melorra', 'Reliance', 'Inflexor Ventures', 'Pandorum',\n",
       "       'SpeakIn', 'LetsUp', 'Newsreach', 'Dream11', 'JetSynthesys',\n",
       "       'Vesta Space Technology', 'Dozee', 'Rebel Foods', 'Ketto',\n",
       "       'Suryoday', 'SucSEED', 'Strata', '3one4 Capital', 'WE-Hub',\n",
       "       'Vicara', 'Gaana', 'EM3 Agri', 'Odwen', 'Fasal', 'Trukky',\n",
       "       'BankBazaar', 'Specsmakers', 'Grinntech', 'CreditMantri',\n",
       "       'Chai Waale', 'Deepsync', 'ConnectedH', 'QShala', 'Pitstop',\n",
       "       'Customfit ai', 'Nirmata', 'Oga Fit', 'ShipsKart', 'SquadStack',\n",
       "       'Financepeer', 'Cashify', 'Etrio', 'Codeyoung', 'StayQrious',\n",
       "       'Sunstone Eduversity', 'Infilect', 'MobiGarage', 'Samunnati',\n",
       "       'WeInnovate Biosolutions', 'Yummy Corp', 'Clairvolex', 'Assiduus',\n",
       "       'Brinton', 'AFK Gaming', 'Infarm', 'Zuper', 'Origa',\n",
       "       'GullyBuy Software', 'Recordent', 'Penny', 'Onsitego', 'Precily',\n",
       "       'SmartClean', 'ClanConnect', 'Servify', 'ShareChat', 'Rephrase.ai',\n",
       "       'EkAnek', 'Cub McPaws', 'Zimyo', 'PumPumPum', 'Burgerama',\n",
       "       'Moms Co', 'DillyHub', 'FPL Technologies', 'FITTR', 'Illumnus',\n",
       "       'CashKaro', 'Newton School', 'Airmeet', 'Observe ai', 'InCred',\n",
       "       'Toppr', 'CarTrade', 'LEAD School', 'Lido Learning', 'Apna.co',\n",
       "       'Quintype Technologies', 'Dunzo', 'Entropik', 'Livspace', 'WinZO',\n",
       "       'SenseHawk', 'Eloelo', 'Aibono', 'BuildPan', 'Homelane', 'MyGlamm',\n",
       "       'Aviom', 'Flinto', 'WayCool', 'YAP', 'Big Bang Boom Solutions',\n",
       "       'GUVI', 'BluSmart', 'Cell Propulsion', 'Spoonshot', 'Pulse',\n",
       "       'Groww', 'i3 Systems', 'SOAL', 'OckyPocky', 'Hippo Video',\n",
       "       'Hasura', 'Qapita', 'Sunday', 'Gamezop', 'Phool.co',\n",
       "       'Chiratae Ventures', 'MedLife', 'IDfy', 'Bira91', 'Max wholesale',\n",
       "       'Craftsvilla', 'MechMocha', 'Mindhouse', 'DeepSync', 'Eruditus',\n",
       "       'Gradeup', 'Tracxn', 'Purple Style Labs', 'ProPhysio',\n",
       "       'Flickstree', 'Settl', 'Fanspole', 'Sarva', 'Univ.ai', 'PurohitJi',\n",
       "       'CredoLab', 'Brick&Bolt', '6Degree', 'Exprs', 'Bikayi',\n",
       "       'Virtual Forest', 'The Health company', 'TrulyMadly Matchmakers',\n",
       "       'TrueFan', 'Avail Finance', 'The Money Club', 'Virohan', 'OneCode',\n",
       "       'Verloop.io', 'Otipy', 'Evage', 'Trell', 'Captain Fresh', 'Pixxel',\n",
       "       'Habbit Health', 'SmarterBiz', 'Able Jobs', 'Vieroots',\n",
       "       'Stack Finance', 'Masai School', 'Mitron', 'Daalchini',\n",
       "       'Suno India', 'LendingKart', 'Text Mercato', 'Eden Smart Homes',\n",
       "       'GrayQuest', 'BigHaat', 'CityCash', 'HomeLane', 'HungerBox',\n",
       "       'DaveAI', 'Eduvanz', 'DocSumo', 'CUSMAT', 'Chingari',\n",
       "       'Data Sutram', 'Wobot Intelligence', 'DrinkPrime', 'Infeedo',\n",
       "       'Probus Smart Things', 'CrowdPouch', 'Hevo', 'BigSpoon Foods',\n",
       "       'DatStop', 'IPHM Services', 'Wellcure', 'VilCart', 'Firescore',\n",
       "       'BulBul', 'Pickright Technologies', 'Muse Wearables',\n",
       "       'SATYA Microcapital', 'WYN Studio', 'Entri', 'Snack Amor',\n",
       "       'MPowered', 'Leap Club', 'Gigforce', 'Vegrow', 'Finn', 'Bijnis',\n",
       "       'iNurture', 'StyleDotMe', 'Ripsey', 'ThriveFNC', 'Vedantu',\n",
       "       'Magicpin', 'Procol', 'Yumlane', 'Crio', 'Openapp',\n",
       "       'uFony Services Pvt ltd', 'Protinus Fashion Networking Pvt Ltd',\n",
       "       'Uable', 'ParkSmart', 'IncNut Digital', 'GigIndia', 'Specsmaker',\n",
       "       'Piggy Ride', 'NOTO', 'Cuemath', 'Cars24', 'Earth Energy EV',\n",
       "       'Green Cure', 'Blue Sky Analytics', 'Edhusk', 'Decentro',\n",
       "       'Zolostays', 'Frontier Markets', 'Brainwired', 'Aye Finance',\n",
       "       'Paper Boat', 'Ken42', 'Forbidden Foods', 'Universal Sportsbiz',\n",
       "       'Gobbly', 'Aerostrovilos', 'Bulk MRO', 'Inspektlabs', 'Zetwerk',\n",
       "       'ChitMonks', 'Walrus', 'Arth Designbuild', 'goDutch', 'Rusk Media',\n",
       "       'Bold Care', 'Samosa Party', 'High Street Essentials', 'Fullife',\n",
       "       'Oziva', 'Aether Biomedical', '91springboard', 'Yulu',\n",
       "       'Milkbasket', 'MergerDomo', 'GoMechanic', 'Milk Mantra', 'Myglamm',\n",
       "       'Drishti Technologies', 'Instasolv', 'GoldenPi', 'Peppermint',\n",
       "       'Jai Kisan', 'Agro2o', 'LetsTransport', 'GabbarDeals',\n",
       "       'Crimson Healthcare', 'Biomoneta', 'Edvizo', 'Drum Food',\n",
       "       'Innoviti', 'Jiffy ai', 'Postman', 'F5', 'Waycool',\n",
       "       'Myelin Foundry', 'Ameliorate Biotech', 'Hapramp', 'MyKaam',\n",
       "       'HealthPlix', 'YoloBus', 'iNurture Education', 'Pocket52',\n",
       "       'QuaQua', 'Crofarm', 'Timios', 'Wooden Street', 'Rentmojo',\n",
       "       'Credgencies', 'Knorish', 'Vahak', 'Nutrova', 'Cube Wealth',\n",
       "       'IVF Access', 'Hoi Foods', 'Ola Financial Services', 'Awifs',\n",
       "       'Swiflearn', 'Remedo', 'Blowhorn', 'Toch', 'Gram Cover',\n",
       "       'Coin DCX', 'HomeCapital', 'Euler Motors', 'Riskcovry',\n",
       "       'NWNT (No Worry No Tension Healthcare)', 'Voicezen',\n",
       "       'Credit Mantri', 'Xtracap', 'Vakilsearch', 'Khatabook',\n",
       "       'Indian School Finance Company', 'Juicy Chemistry', 'DeepTek',\n",
       "       'Stepathlon Lifestyle', 'Sindhuja Microcredit',\n",
       "       'Tesco Charge Zone', 'Intello Labs', 'SirionLabs', 'GroCurv',\n",
       "       'Refrens', 'Spyne', 'Docsapp', 'Phable', 'Generic Aadhaar', 'Nium',\n",
       "       'Mintoak', 'VestSpace', 'Blackbuck', 'Vernacular ai', 'Clover',\n",
       "       'Varthana', 'Codeninja', 'MetaMerphoSys', 'Rooter', 'Aker Foods',\n",
       "       'Sascan Meditech pvt ltd', 'DailyHunt', 'Pratilipi',\n",
       "       'Biryani By Kilo', 'Consure Medical', 'Tessol', 'News Reach',\n",
       "       'RoomSoom', 'Pedagogy', 'Medlife', 'Qin1', 'MYSUN', 'ShopX',\n",
       "       'NewsBytes', 'Wagonfly', 'Convosight', 'Fittr', 'AsknBid',\n",
       "       'Finaureus Technologies', 'Daily Ninja',\n",
       "       'Guvi Geek Network Pvt Ltd', 'LoadShare', 'Indusface', 'DMI Group',\n",
       "       'Spintly', 'Credr', 'Bijak', 'Bugworks', 'Yap', 'UzhavarBumi',\n",
       "       'Tattva', 'Pariksha', 'NoBroker', 'Box8', 'Capital Float',\n",
       "       'ITILITE', 'Morning Context', 'Aavenir', 'Savvy Co op', 'BLive',\n",
       "       'Yellow Messenger', 'Ewar', 'Setu', 'Wellthy Therapeutics',\n",
       "       'Locale ai', 'FarEye', 'Porter', 'SugarBox', 'Big Basket', 'Amica',\n",
       "       'Fingerlix', 'Plop', 'Zupee', 'DeHaat', 'Swiggy', 'Akna Medical',\n",
       "       'RaRa Delivery', 'JusPay', 'Obviously AI', 'Fingpay', 'Recko',\n",
       "       'Furlenco', 'Mera Cashier', 'Camp K12', 'MedGenome', 'Samadhan',\n",
       "       'SaScan', 'CureFit', 'Nimesa', 'Design X', 'Driftly Electric',\n",
       "       'Imstrong', 'Rupifi', 'SnackAmor', 'Zealthy', 'NuNu TV', 'QTalk',\n",
       "       'Shadez', 'Excess2Sell', 'Stanplus', 'Univariety', 'Peel Works',\n",
       "       'CoreStack', 'Agnikul', 'Fintso', 'Smart Coin', 'ZunRoof',\n",
       "       'Shop101', 'OM Bhakti', 'Lal10', 'Anaxee Digital Runner',\n",
       "       'CollegeKhabri', 'Ola Electric', 'Multi Living', 'FamPay',\n",
       "       'UnboxRobotics Labs', 'Karbon Card', 'Innerchef', 'Epigamia',\n",
       "       'StyleNook', 'Callido Learning', 'Soxytoes', 'Salesken',\n",
       "       'Leap Finance', 'Sleepy Owl', 'Tricog', 'GogoBus',\n",
       "       'Spaciya Consultants', 'Bounce', 'Neeman', 'Chqbook', 'SMEcorner',\n",
       "       'Oda Class', 'Spinny', 'goStops', 'Umeed Housing', 'Vogo',\n",
       "       'Flick Stree', 'Qure ai', 'MinionLabs', 'Josh Talks',\n",
       "       'PhoneParLoan', 'RailYatri', 'Pepper', 'iMerit', 'BharatPe',\n",
       "       'Invideo', 'AvalonMeta', 'Near Store', 'ElecTorq',\n",
       "       'Prayaan Capital', 'Sanfe', 'Go Desi', 'Whatfix', 'Zvesta',\n",
       "       'Digit Insurance', 'Yolo', 'SmartVizX', 'MaxWholesale',\n",
       "       'Carbon Clean', 'Genius Corner', 'PlanetSpark', 'CamCom', 'Simsim',\n",
       "       'Shuttl', 'HooLiv', 'ClassMonitor', 'Friyey', 'Oga', 'CYFIRMA',\n",
       "       'Paytm money', 'Nova Credit', 'CodingNinjas', 'HempStreet',\n",
       "       'MoEngage', 'Chaayos', 'PetPooja', 'Altor', 'Pepperfry',\n",
       "       'FirstCry', 'Byju', 'WorkIndia', 'Qyuki', 'Leap India', 'Picxy',\n",
       "       'NEETprep', 'Dot Pvt. Ltd', 'Kuku FM', 'SuperMoney', 'AlphaVector',\n",
       "       'Fox Capital', 'Tribe Theory', 'Embibe', 'Oye! Rickshaw',\n",
       "       'Seal Professional', 'Sprinng Foods', '1MG', 'Aagey', 'Doubtnut',\n",
       "       'AdonMo', 'Kisan Network', 'Unotech', 'CureSkin', 'WizKlub',\n",
       "       'Interviewbit', 'MoneyTap', 'Uniplatform Tech', 'INdwealth',\n",
       "       'Bizongo', 'AppsFlyer', 'Konfinity', 'Nupay', 'LogiNext',\n",
       "       'Samosa Singh', 'Crysta', 'Eupheus Learning', 'Park+', 'Goodmylk',\n",
       "       'SmartKarrot', 'Skylo', 'Tea Trunk', 'Zoomcar', 'Samya AI',\n",
       "       'Kristal AI', 'Invento Robotics', 'Sabse Sasta Dukaan',\n",
       "       'Fitphilia', 'Medicus', 'Monech', 'Teach Us', 'Dealberg',\n",
       "       'Phenom People', 'Extra Edge', 'Capital Quotient', 'Karfa',\n",
       "       'Zinier', 'ProEves', 'Toddle', 'Aesthetic Nutrition',\n",
       "       'TechnifyBiz', 'Wysh', 'Keito', 'Klub', 'Aadhar', 'IncubateHub',\n",
       "       'Rage Coffee', 'Skilancer', 'Harappa Education', 'Rheo',\n",
       "       'Axio Biosolutions', 'Techbooze', 'PayMart', 'Testbook',\n",
       "       'FabAlley', 'HaikuJAM', 'Mamaearth', 'Rentomojo', 'Generico',\n",
       "       'HighRadius', 'Chai Kings', 'Shiksha', 'Super Surfaces', 'Quicko',\n",
       "       'Satin Creditcare', 'XpressBees', 'FarmERP', 'Wealth Bucket',\n",
       "       'Fashor', 'Leverage Edu', 'EpiFi', 'Purplle', 'Pando'],\n",
       "      dtype=object)"
      ]
     },
     "execution_count": 66,
     "metadata": {},
     "output_type": "execute_result"
    }
   ],
   "source": [
    "#The company_brand colunm\n",
    "data_2020[\"Company_Brand\"].unique()"
   ]
  },
  {
   "cell_type": "code",
   "execution_count": 67,
   "metadata": {},
   "outputs": [
    {
     "data": {
      "text/plain": [
       "array(['Chennai', 'Bangalore', 'Pune', 'New Delhi', 'Indore', 'Hyderabad',\n",
       "       'Gurgaon', 'Belgaum', 'Noida', 'Mumbai', 'Andheri', 'Jaipur',\n",
       "       'Ahmedabad', 'Kolkata', 'Tirunelveli, Tamilnadu', 'Thane', None,\n",
       "       'Singapore', 'Gurugram', 'Gujarat', 'Haryana', 'Kerala', 'Jodhpur',\n",
       "       'Jaipur, Rajastan', 'Delhi', 'Frisco, Texas, United States',\n",
       "       'California', 'Dhingsara, Haryana', 'New York, United States',\n",
       "       'Patna', 'San Francisco, California, United States',\n",
       "       'San Francisco, United States', 'San Ramon, California',\n",
       "       'Paris, Ile-de-France, France', 'Plano, Texas, United States',\n",
       "       'Sydney', 'San Francisco Bay Area, Silicon Valley, West Coast',\n",
       "       'Bangaldesh', 'London, England, United Kingdom',\n",
       "       'Sydney, New South Wales, Australia', 'Milano, Lombardia, Italy',\n",
       "       'Palmwoods, Queensland, Australia', 'France',\n",
       "       'San Francisco Bay Area, West Coast, Western US',\n",
       "       'Trivandrum, Kerala, India', 'Cochin', 'Samastipur, Bihar',\n",
       "       'Irvine, California, United States', 'Tumkur, Karnataka',\n",
       "       'Newcastle Upon Tyne, Newcastle upon Tyne, United Kingdom',\n",
       "       'Shanghai, China', 'Jiaxing, Zhejiang, China', 'Rajastan', 'Kochi',\n",
       "       'Ludhiana', 'Dehradun', 'San Franciscao', 'San Francisco',\n",
       "       'Tangerang, Jawa Barat, Indonesia', 'Berlin', 'Seattle', 'Riyadh',\n",
       "       'Seoul', 'New York', 'Bangkok', 'Kanpur', 'Chandigarh', 'Warangal',\n",
       "       'Hyderebad', 'Odisha', 'Bihar', 'Goa', 'Tamil Nadu',\n",
       "       'Uttar Pradesh', 'Bhopal', 'Banglore', 'Coimbatore', 'Bengaluru'],\n",
       "      dtype=object)"
      ]
     },
     "execution_count": 67,
     "metadata": {},
     "output_type": "execute_result"
    }
   ],
   "source": [
    "#Headquaters column\n",
    "data_2020[\"HeadQuarter\"].unique()\n"
   ]
  },
  {
   "cell_type": "code",
   "execution_count": null,
   "metadata": {},
   "outputs": [],
   "source": [
    "# Standardize city names\n",
    "# df20[\"HeadQuarter\"] = df20[\"HeadQuarter\"].str.replace(\"Bangalore|Bengaluru\", \"Bangalore\")\n",
    "# df20[\"HeadQuarter\"] = df20[\"HeadQuarter\"].str.replace(\"Hyderebad\", \"Hyderabad\")\n",
    "# df20[\"HeadQuarter\"] = df20[\"HeadQuarter\"].str.replace(\"New Delhi|Delhi\", \"New Delhi\")"
   ]
  },
  {
   "cell_type": "code",
   "execution_count": 72,
   "metadata": {},
   "outputs": [
    {
     "data": {
      "text/plain": [
       "94"
      ]
     },
     "execution_count": 72,
     "metadata": {},
     "output_type": "execute_result"
    }
   ],
   "source": [
    "# Check for missing values\n",
    "data_2020[\"HeadQuarter\"].isnull().sum()"
   ]
  },
  {
   "cell_type": "code",
   "execution_count": 73,
   "metadata": {},
   "outputs": [],
   "source": [
    "#Handling missing values\n",
    "# df20[\"HeadQuarter\"] = df20[\"HeadQuarter\"].replace([\"\", \"-\", \"nan\"], np.nan)\n",
    "data_2020[\"HeadQuarter\"]= data_2020[\"HeadQuarter\"].replace([\"\",np.nan])"
   ]
  },
  {
   "cell_type": "code",
   "execution_count": 78,
   "metadata": {},
   "outputs": [
    {
     "data": {
      "text/plain": [
       "0"
      ]
     },
     "execution_count": 78,
     "metadata": {},
     "output_type": "execute_result"
    }
   ],
   "source": [
    "#No more missing values in Headquarter column\n",
    "data_2020[\"HeadQuarter\"].isnull().sum()"
   ]
  },
  {
   "cell_type": "code",
   "execution_count": 81,
   "metadata": {},
   "outputs": [
    {
     "name": "stdout",
     "output_type": "stream",
     "text": [
      "<class 'pandas.core.frame.DataFrame'>\n",
      "RangeIndex: 1055 entries, 0 to 1054\n",
      "Data columns (total 7 columns):\n",
      " #   Column         Non-Null Count  Dtype  \n",
      "---  ------         --------------  -----  \n",
      " 0   Company_Brand  1055 non-null   object \n",
      " 1   HeadQuarter    1055 non-null   object \n",
      " 2   Sector         1042 non-null   object \n",
      " 3   What_it_does   1055 non-null   object \n",
      " 4   Investor       1017 non-null   object \n",
      " 5   Amount         801 non-null    float64\n",
      " 6   Stage          591 non-null    object \n",
      "dtypes: float64(1), object(6)\n",
      "memory usage: 57.8+ KB\n"
     ]
    }
   ],
   "source": [
    "data_2020.info()"
   ]
  },
  {
   "cell_type": "code",
   "execution_count": 82,
   "metadata": {},
   "outputs": [
    {
     "data": {
      "text/plain": [
       "array(['AgriTech', 'EdTech', 'Hygiene management', 'Escrow',\n",
       "       'Networking platform', 'FinTech', 'Crowdsourcing',\n",
       "       'Food & Bevarages', 'HealthTech', 'Fashion startup',\n",
       "       'Food Industry', 'Food Delivery', 'Virtual auditing startup',\n",
       "       'E-commerce', 'Gaming', 'Work fulfillment', 'AI startup',\n",
       "       'Telecommunication', 'Logistics', 'Tech Startup', 'Sports',\n",
       "       'Retail', 'Medtech', 'Tyre management', 'Cloud company',\n",
       "       'Software company', 'Venture capitalist', 'Renewable player',\n",
       "       'IoT startup', 'SaaS startup', 'Aero company', 'Marketing company',\n",
       "       'Retail startup', 'Co-working Startup', 'Finance company',\n",
       "       'Tech company', 'Solar Monitoring Company',\n",
       "       'Video sharing platform', 'Gaming startup',\n",
       "       'Video streaming platform', 'Consumer appliances',\n",
       "       'Blockchain startup', 'Conversational AI platform', 'Real Estate',\n",
       "       'SaaS platform', 'AI platform', 'Fusion beverages', 'HR Tech',\n",
       "       'Job portal', 'Hospitality', 'Digital Media', 'Dairy startup',\n",
       "       'Content management', 'Spacetech', 'Transportation',\n",
       "       'Trading platform', 'AI Company', 'Photonics startup',\n",
       "       'Entertainment', 'Cosmetics', 'Scanning app', 'Skincare startup',\n",
       "       'Food and Beverages', 'Biotechnology company', 'FoodTech',\n",
       "       'Proptech', 'CleanTech', 'Fitness startup', 'Healthcare',\n",
       "       'PaaS startup', 'Beverages', 'Social Media', 'Automobiles',\n",
       "       'Deeptech', 'EV startup', 'AR/VR startup', 'Recruitment startup',\n",
       "       'QSR startup', 'Video platform', 'Edtech', 'Fertility tech',\n",
       "       'Luxury car startup', 'FM', 'Food', 'Nutrition sector',\n",
       "       'Tech platform', 'Video', 'Retail Tech', 'HeathTech',\n",
       "       'Sles and marketing', 'LegalTech', 'Car Service',\n",
       "       'Bike marketplace', 'Agri tech', 'Reatil startup', 'AR platform',\n",
       "       'Consumer Goods', 'Content marketplace', 'Interior Design',\n",
       "       'Rental space', 'Soil-Tech', 'Ayurveda tech',\n",
       "       'Packaging solution startup', 'Cleantech', 'Sanitation solutions',\n",
       "       'HealthCare', 'Home Design', 'InsureTech', 'AI Startup',\n",
       "       'Solar solution', 'Jewellery startup',\n",
       "       'Multinational conglomerate company', 'Deeptech startup',\n",
       "       'Social Network', 'Publication', 'Tech', 'Fashion', 'Finance',\n",
       "       'Venture capital', 'Entreprenurship', 'Food devlivery',\n",
       "       'Warehouse', 'Online financial service', 'Eyeglasses',\n",
       "       'Battery design', 'Online credit management startup', 'Beverage',\n",
       "       'TravelTech', 'Agriculture', 'Startup laboratory',\n",
       "       'Personal care startup', 'Customer service company',\n",
       "       'SaaS\\xa0\\xa0startup', 'Marketing startup', 'Service industry',\n",
       "       'Social media', 'AI', 'Jewellery', 'AR startup', 'HR Tech startup',\n",
       "       'Automotive Startup', 'Food Startup', 'EdTech Startup',\n",
       "       'Car Trade', 'EdtTech', 'Manufacturing', 'AI Platform',\n",
       "       'Automation', 'Solar SaaS', 'WL & RAC protection',\n",
       "       'Social commerce', 'Home interior services', 'Agritech startup',\n",
       "       'API platform', 'Deep Tech', 'Electricity', 'Automotive company',\n",
       "       'FMCG', 'Insurance Tech', 'Video personalization',\n",
       "       'Software Company', 'Biomaterial startup', 'Health', 'IT',\n",
       "       'Craft Beer', 'Healthtech', 'Education', 'Investment',\n",
       "       'Linguistic Spiritual', 'Construction', 'Battery manufacturer',\n",
       "       'Nano Distribution Network', 'AI health', 'Dating app', 'Media',\n",
       "       'Fintech', 'Healthcare/Edtech', 'Social Commerce',\n",
       "       'Agritech/Commerce', 'Mobility tech', 'Social e-commerce',\n",
       "       'Food & Logistics', 'SpaceTech', 'Nutrition Tech', 'HR', 'IoT',\n",
       "       None, 'Agritech', 'Interior design', 'Foodtech', 'AR/VR',\n",
       "       'Appliance', 'HR tech', 'Food tech', 'Mental Health', 'Ecommerce',\n",
       "       'Solar Solution', 'SaaS', 'Automobile', 'B2B marketplace',\n",
       "       'Fashion Tech', 'Nutrition tech', 'Health & Wellness',\n",
       "       'Cloud Kitchen', 'IoT/Automobile', 'Eye Wear', 'Digital tech',\n",
       "       'Data Intelligence', 'Co-living', 'Food & Beverages', 'Automotive',\n",
       "       'B2B', 'Defense tech', 'Marketplace', 'Construction tech',\n",
       "       'Nutrition', 'Coworking', 'Micro-mobiity', 'Auto-tech', 'Beauty',\n",
       "       'Robotics', 'Yoga & wellness', 'Logitech', 'Med Tech',\n",
       "       'Life sciences', 'Retail Aggregator', 'Deep Tech AI', 'Biotech',\n",
       "       'Blockchain', 'HrTech', 'Mobility/Transport', 'Travel', 'Rental',\n",
       "       'AI & Debt', 'SaaS/Edtech', 'Transport', 'Co-working', 'Insurtech',\n",
       "       'Cryptocurrency', 'Automotive tech', 'Legal', 'Fitness', 'EV',\n",
       "       'Supply chain, Agritech', 'Pharma', 'Insurance technology',\n",
       "       'Foodtech & Logistics', 'Housing', 'Pharmaceutical',\n",
       "       'Data Analytics', 'Investment Tech', 'Financial Services',\n",
       "       'Biopharma', 'Dairy', 'Beauty & wellness', 'Travel & SaaS',\n",
       "       'Tourism & EV', 'Media Tech', 'Location Analytics', 'E store',\n",
       "       'Data Science', 'Insurance', 'Health and Fitness', 'Technology',\n",
       "       'Interior & decor', 'eMobility', 'Automation tech',\n",
       "       'Media & Networking', 'E-market', 'AI & Data science',\n",
       "       'Travel tech', 'Automotive and Rentals', 'E-tail', 'Accomodation',\n",
       "       'AI & Media', 'Machine Learning', 'Content Marktplace',\n",
       "       'Visual Media', 'Hygiene', 'VR & SaaS', 'Sales & Services',\n",
       "       'AI & Deep learning', 'Housing & Rentals', 'Estore', 'Marketing',\n",
       "       'E tailor', 'E-mobility', 'Ad-tech', 'Neo-banking',\n",
       "       'Transport Automation', 'Techonology', 'Transport & Rentals',\n",
       "       'AI Robotics', 'Preschool Daycare', 'Food diet', 'B2B Agritech',\n",
       "       'E-connect', 'Tech hub', 'Consultancy', 'Pharmacy', 'Deisgning',\n",
       "       'Taxation', 'Automobile Technology'], dtype=object)"
      ]
     },
     "execution_count": 82,
     "metadata": {},
     "output_type": "execute_result"
    }
   ],
   "source": [
    "#The Sector Column\n",
    "data_2020[\"Sector\"].unique()"
   ]
  },
  {
   "cell_type": "code",
   "execution_count": 84,
   "metadata": {},
   "outputs": [
    {
     "data": {
      "text/plain": [
       "13"
      ]
     },
     "execution_count": 84,
     "metadata": {},
     "output_type": "execute_result"
    }
   ],
   "source": [
    "data_2020[\"Sector\"].isnull().sum()"
   ]
  },
  {
   "cell_type": "code",
   "execution_count": null,
   "metadata": {},
   "outputs": [
    {
     "ename": "",
     "evalue": "",
     "output_type": "error",
     "traceback": [
      "\u001b[1;31mFailed to start the Kernel. \n",
      "\u001b[1;31mUnable to start Kernel 'Python 3.11.1' due to a timeout waiting for the ports to get used. \n",
      "\u001b[1;31mView Jupyter <a href='command:jupyter.viewOutput'>log</a> for further details."
     ]
    }
   ],
   "source": [
    "query_2021 = \"Select * from dbo.LP1_startup_funding2021\"\n",
    "data_2021 = pd.read_sql(query_2021, connection)"
   ]
  },
  {
   "cell_type": "code",
   "execution_count": null,
   "metadata": {},
   "outputs": [
    {
     "ename": "",
     "evalue": "",
     "output_type": "error",
     "traceback": [
      "\u001b[1;31mFailed to start the Kernel. \n",
      "\u001b[1;31mUnable to start Kernel 'Python 3.11.1' due to a timeout waiting for the ports to get used. \n",
      "\u001b[1;31mView Jupyter <a href='command:jupyter.viewOutput'>log</a> for further details."
     ]
    }
   ],
   "source": [
    "data_2021.head()"
   ]
  },
  {
   "cell_type": "code",
   "execution_count": null,
   "metadata": {},
   "outputs": [
    {
     "ename": "",
     "evalue": "",
     "output_type": "error",
     "traceback": [
      "\u001b[1;31mFailed to start the Kernel. \n",
      "\u001b[1;31mUnable to start Kernel 'Python 3.11.1' due to a timeout waiting for the ports to get used. \n",
      "\u001b[1;31mView Jupyter <a href='command:jupyter.viewOutput'>log</a> for further details."
     ]
    }
   ],
   "source": [
    "data_2021.shape"
   ]
  },
  {
   "attachments": {},
   "cell_type": "markdown",
   "metadata": {},
   "source": [
    "Hypothesis\n",
    "H0 = Funding is highly dependent on the industry/sector a company is in.\n",
    "Ha = Funding is not dependent on industry/sector.\n",
    "\n"
   ]
  },
  {
   "attachments": {},
   "cell_type": "markdown",
   "metadata": {},
   "source": [
    "Questions\n",
    "1. Which sector/industry recevied the highest amount?\n",
    "2. At what stage/round can a sector/industry received the highest amount?\n",
    "3. Which location have the highest amount?\n",
    "4. Which location have the least amount?\n",
    "5. What does each company do that make them to receive the highest amount?"
   ]
  }
 ],
 "metadata": {
  "kernelspec": {
   "display_name": "base",
   "language": "python",
   "name": "python3"
  },
  "language_info": {
   "codemirror_mode": {
    "name": "ipython",
    "version": 3
   },
   "file_extension": ".py",
   "mimetype": "text/x-python",
   "name": "python",
   "nbconvert_exporter": "python",
   "pygments_lexer": "ipython3",
   "version": "3.11.1"
  },
  "orig_nbformat": 4
 },
 "nbformat": 4,
 "nbformat_minor": 2
}
